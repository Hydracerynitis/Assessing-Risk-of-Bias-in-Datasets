{
 "cells": [
  {
   "cell_type": "code",
   "execution_count": 1,
   "metadata": {},
   "outputs": [],
   "source": [
    "import warnings\n",
    "import sys\n",
    "import os\n",
    "import textwrap\n",
    "\n",
    "import numpy as np\n",
    "import pandas as pd\n",
    "import seaborn as sns\n",
    "import matplotlib.pyplot as plt\n",
    "import matplotlib.gridspec as gridspec\n",
    "\n",
    "from matplotlib.ticker import FuncFormatter\n",
    "from pathlib import Path \n",
    "from tqdm import tqdm\n",
    "from sklearn.model_selection import KFold, GridSearchCV, StratifiedKFold\n",
    "from sklearn.preprocessing import StandardScaler\n",
    "from sklearn.ensemble import RandomForestClassifier, GradientBoostingClassifier\n",
    "from sklearn.neural_network import MLPClassifier\n",
    "from sklearn.dummy import DummyClassifier\n",
    "from sklearn.metrics import accuracy_score, f1_score\n",
    "from sklearn.svm import LinearSVC, SVC\n",
    "from lightgbm import LGBMClassifier\n",
    "from autorank import autorank, plot_stats, create_report"
   ]
  },
  {
   "cell_type": "code",
   "execution_count": 2,
   "metadata": {},
   "outputs": [],
   "source": [
    "#Mute warning during training for clean log outputs\n",
    "if not sys.warnoptions:\n",
    "    warnings.simplefilter(\"ignore\")\n",
    "    os.environ[\"PYTHONWARNINGS\"] = \"ignore\""
   ]
  },
  {
   "cell_type": "code",
   "execution_count": 3,
   "metadata": {},
   "outputs": [],
   "source": [
    "#Irrelevent features\n",
    "config_key=[\"dataset_random_state\",\"n_samples\",\"n_informative\",\"n_redundant\",\"n_repeated\",\"n_classes\",\n",
    "            \"class_imbalanced\",\n",
    "            \"n_clusters_per_class\", \"positive_class_num\", \"sensitive_random_state\", \"continous_groups\", \n",
    "            \"sensitive_imbalanced\",\n",
    "            \"n_group\", \"group_dimension\", \"k\", \"prev_weight\", \"random_walk\", \"coefficient\", \n",
    "            \"landmarking_random_state\",\"n_features\",\n",
    "            \"class_weight\",\"sensitive_group_scores\"]\n",
    "#Target Labels\n",
    "bias_score_key=['disparate_parity', 'equal_opportunity', 'group_fairness']\n",
    "target_names = ['Disparate Parity', 'Equal Opportunity', 'Group Fairness']\n",
    "target_names_w = [textwrap.fill(name, width=10, break_long_words=False) for name in target_names]\n",
    "target_names_dict = dict(zip(bias_score_key, target_names_w))"
   ]
  },
  {
   "cell_type": "code",
   "execution_count": 4,
   "metadata": {},
   "outputs": [],
   "source": [
    "df_meta = pd.read_csv(\"artifact/metadataset.csv\")\n",
    "\n",
    "# exclude random states because they do not carry information\n",
    "df_meta = df_meta.drop('dataset_random_state', axis=1)\n",
    "df_meta = df_meta.drop('sensitive_random_state', axis=1)\n",
    "df_meta = df_meta.drop('landmarking_random_state', axis=1)\n",
    "\n",
    "# exclude arrays of class- or group-specific information as their shape is \n",
    "#  dataset-specific and does not generalize\n",
    "df_meta = df_meta.drop('class_weight', axis=1)\n",
    "df_meta = df_meta.drop('sensitive_group_scores', axis=1)\n",
    "\n",
    "features = df_meta.columns[:-6]\n",
    "targets = bias_score_key\n",
    "COLORS = ['#cdcdcd', '#00678a', '#984464', '#5eccab', '#56641a', '#e6a176', '#c0affb']\n",
    "target_to_color = dict(zip(targets, COLORS))"
   ]
  },
  {
   "cell_type": "code",
   "execution_count": 5,
   "metadata": {},
   "outputs": [],
   "source": [
    "cv_result_path=\"experiment_result/Q1_binary.csv\"\n",
    "\n",
    "cv_result_df=pd.DataFrame()\n",
    "if Path(cv_result_path).is_file():\n",
    "    cv_result_df=pd.read_csv(cv_result_path,header=0,index_col=0)\n",
    "cv_result_df = cv_result_df[cv_result_df['label'].isin(targets)]"
   ]
  },
  {
   "cell_type": "code",
   "execution_count": 26,
   "metadata": {},
   "outputs": [
    {
     "data": {
      "text/html": [
       "<div>\n",
       "<style scoped>\n",
       "    .dataframe tbody tr th:only-of-type {\n",
       "        vertical-align: middle;\n",
       "    }\n",
       "\n",
       "    .dataframe tbody tr th {\n",
       "        vertical-align: top;\n",
       "    }\n",
       "\n",
       "    .dataframe thead th {\n",
       "        text-align: right;\n",
       "    }\n",
       "</style>\n",
       "<table border=\"1\" class=\"dataframe\">\n",
       "  <thead>\n",
       "    <tr style=\"text-align: right;\">\n",
       "      <th></th>\n",
       "      <th>Model</th>\n",
       "      <th>Fold</th>\n",
       "      <th>label</th>\n",
       "      <th>balanced</th>\n",
       "      <th>metric</th>\n",
       "      <th>on</th>\n",
       "      <th>value</th>\n",
       "    </tr>\n",
       "  </thead>\n",
       "  <tbody>\n",
       "    <tr>\n",
       "      <th>40</th>\n",
       "      <td>MajorityClass</td>\n",
       "      <td>0</td>\n",
       "      <td>equal_opportunity</td>\n",
       "      <td>False</td>\n",
       "      <td>Accuracy</td>\n",
       "      <td>all</td>\n",
       "      <td>0.710000</td>\n",
       "    </tr>\n",
       "    <tr>\n",
       "      <th>41</th>\n",
       "      <td>MajorityClass</td>\n",
       "      <td>0</td>\n",
       "      <td>equal_opportunity</td>\n",
       "      <td>False</td>\n",
       "      <td>F1 Score</td>\n",
       "      <td>all</td>\n",
       "      <td>0.000000</td>\n",
       "    </tr>\n",
       "    <tr>\n",
       "      <th>42</th>\n",
       "      <td>MajorityClass</td>\n",
       "      <td>1</td>\n",
       "      <td>equal_opportunity</td>\n",
       "      <td>False</td>\n",
       "      <td>Accuracy</td>\n",
       "      <td>all</td>\n",
       "      <td>0.680000</td>\n",
       "    </tr>\n",
       "    <tr>\n",
       "      <th>43</th>\n",
       "      <td>MajorityClass</td>\n",
       "      <td>1</td>\n",
       "      <td>equal_opportunity</td>\n",
       "      <td>False</td>\n",
       "      <td>F1 Score</td>\n",
       "      <td>all</td>\n",
       "      <td>0.000000</td>\n",
       "    </tr>\n",
       "    <tr>\n",
       "      <th>44</th>\n",
       "      <td>MajorityClass</td>\n",
       "      <td>2</td>\n",
       "      <td>equal_opportunity</td>\n",
       "      <td>False</td>\n",
       "      <td>Accuracy</td>\n",
       "      <td>all</td>\n",
       "      <td>0.780000</td>\n",
       "    </tr>\n",
       "    <tr>\n",
       "      <th>...</th>\n",
       "      <td>...</td>\n",
       "      <td>...</td>\n",
       "      <td>...</td>\n",
       "      <td>...</td>\n",
       "      <td>...</td>\n",
       "      <td>...</td>\n",
       "      <td>...</td>\n",
       "    </tr>\n",
       "    <tr>\n",
       "      <th>715</th>\n",
       "      <td>MLP</td>\n",
       "      <td>7</td>\n",
       "      <td>group_fairness</td>\n",
       "      <td>False</td>\n",
       "      <td>F1 Score</td>\n",
       "      <td>all</td>\n",
       "      <td>0.000000</td>\n",
       "    </tr>\n",
       "    <tr>\n",
       "      <th>716</th>\n",
       "      <td>MLP</td>\n",
       "      <td>8</td>\n",
       "      <td>group_fairness</td>\n",
       "      <td>False</td>\n",
       "      <td>Accuracy</td>\n",
       "      <td>all</td>\n",
       "      <td>0.580000</td>\n",
       "    </tr>\n",
       "    <tr>\n",
       "      <th>717</th>\n",
       "      <td>MLP</td>\n",
       "      <td>8</td>\n",
       "      <td>group_fairness</td>\n",
       "      <td>False</td>\n",
       "      <td>F1 Score</td>\n",
       "      <td>all</td>\n",
       "      <td>0.045455</td>\n",
       "    </tr>\n",
       "    <tr>\n",
       "      <th>718</th>\n",
       "      <td>MLP</td>\n",
       "      <td>9</td>\n",
       "      <td>group_fairness</td>\n",
       "      <td>False</td>\n",
       "      <td>Accuracy</td>\n",
       "      <td>all</td>\n",
       "      <td>0.560000</td>\n",
       "    </tr>\n",
       "    <tr>\n",
       "      <th>719</th>\n",
       "      <td>MLP</td>\n",
       "      <td>9</td>\n",
       "      <td>group_fairness</td>\n",
       "      <td>False</td>\n",
       "      <td>F1 Score</td>\n",
       "      <td>all</td>\n",
       "      <td>0.153846</td>\n",
       "    </tr>\n",
       "  </tbody>\n",
       "</table>\n",
       "<p>360 rows × 7 columns</p>\n",
       "</div>"
      ],
      "text/plain": [
       "             Model  Fold              label  balanced    metric   on     value\n",
       "40   MajorityClass     0  equal_opportunity     False  Accuracy  all  0.710000\n",
       "41   MajorityClass     0  equal_opportunity     False  F1 Score  all  0.000000\n",
       "42   MajorityClass     1  equal_opportunity     False  Accuracy  all  0.680000\n",
       "43   MajorityClass     1  equal_opportunity     False  F1 Score  all  0.000000\n",
       "44   MajorityClass     2  equal_opportunity     False  Accuracy  all  0.780000\n",
       "..             ...   ...                ...       ...       ...  ...       ...\n",
       "715            MLP     7     group_fairness     False  F1 Score  all  0.000000\n",
       "716            MLP     8     group_fairness     False  Accuracy  all  0.580000\n",
       "717            MLP     8     group_fairness     False  F1 Score  all  0.045455\n",
       "718            MLP     9     group_fairness     False  Accuracy  all  0.560000\n",
       "719            MLP     9     group_fairness     False  F1 Score  all  0.153846\n",
       "\n",
       "[360 rows x 7 columns]"
      ]
     },
     "execution_count": 26,
     "metadata": {},
     "output_type": "execute_result"
    }
   ],
   "source": [
    "cv_result_df"
   ]
  },
  {
   "cell_type": "markdown",
   "metadata": {},
   "source": [
    "## Experiments"
   ]
  },
  {
   "cell_type": "markdown",
   "metadata": {},
   "source": [
    "#### Step 1: Normalize targets"
   ]
  },
  {
   "cell_type": "code",
   "execution_count": 49,
   "metadata": {},
   "outputs": [],
   "source": [
    "X = df_meta[features]\n",
    "Y = df_meta[targets]\n",
    "\n",
    "# Normalize Y (each column has 0 mean and 1 standard deviation)\n",
    "scaler = StandardScaler()\n",
    "Y_n = scaler.fit_transform(Y)\n",
    "Y_n = pd.DataFrame(Y_n, columns=Y.columns)"
   ]
  },
  {
   "cell_type": "markdown",
   "metadata": {},
   "source": [
    "#### Step 2: Binarize"
   ]
  },
  {
   "cell_type": "code",
   "execution_count": 50,
   "metadata": {},
   "outputs": [],
   "source": [
    "# Targets are normalized with mean 0 and std 1\n",
    "## We binarize using the sign\n",
    "Y_bin = (Y_n > 0)"
   ]
  },
  {
   "cell_type": "code",
   "execution_count": 84,
   "metadata": {},
   "outputs": [],
   "source": [
    "def cross_validate(model, name, target, splits=10, n_sample=1000):\n",
    "    cv_result=[]\n",
    "    np.random.seed(2210)\n",
    "    sample = np.random.choice(list(range(len(X))), n_sample)\n",
    "    X_sam, Y_bin_sam = X.loc[sample].reset_index(), Y_bin.loc[sample].reset_index()\n",
    "    kf = KFold(n_splits=splits)\n",
    "    for index, (train_index, test_index) in enumerate(kf.split(X_sam)):\n",
    "        \n",
    "        #Train models and produce predictions based on training and testing split\n",
    "        model.fit(X_sam.loc[train_index],Y_bin_sam.loc[train_index][target])\n",
    "        pred=model.predict(X_sam.loc[test_index])\n",
    "        truth=Y_bin_sam.loc[test_index][target]\n",
    "\n",
    "        #Calculate the metrics\n",
    "        acc=accuracy_score(truth,pred)\n",
    "        f1=f1_score(truth,pred)\n",
    "\n",
    "        cv_result.append({\"Model\":name, \"Fold\":index, \"label\": target, \"balanced\": False, \"metric\":'Accuracy', \"on\":'all', \"value\":acc})\n",
    "        cv_result.append({\"Model\":name, \"Fold\":index, \"label\": target, \"balanced\": False, \"metric\":'F1 Score', \"on\":'all', \"value\":f1})\n",
    "    \n",
    "    #Output results as Dataframe\n",
    "    result_df=pd.DataFrame(cv_result)\n",
    "    return result_df"
   ]
  },
  {
   "cell_type": "code",
   "execution_count": 77,
   "metadata": {},
   "outputs": [],
   "source": [
    "# Perform Cross Validation for each model settings \n",
    "def evaluate_model(model,name):\n",
    "    global cv_result_df\n",
    "    if (len(cv_result_df)>0) and (name in cv_result_df[\"Model\"].unique()):\n",
    "        print(f\"{name} has already been tested\")\n",
    "        return\n",
    "    for bs in bias_score_key:\n",
    "        cv_df=cross_validate(model,name,bs)\n",
    "        cv_result_df=pd.concat([cv_result_df,cv_df],axis=0)\n",
    "        cv_result_df=cv_result_df.reset_index(drop=True)\n",
    "        cv_result_df.to_csv(cv_result_path)\n",
    "        print(f\"{bs} completed.\")"
   ]
  },
  {
   "cell_type": "code",
   "execution_count": 86,
   "metadata": {},
   "outputs": [
    {
     "name": "stdout",
     "output_type": "stream",
     "text": [
      "Group Size Disparity completed.\n",
      "Prevalence Disparity completed.\n",
      "equal_opportunity completed.\n",
      "disparate_parity completed.\n",
      "individual_fairness completed.\n",
      "group_fairness completed.\n"
     ]
    }
   ],
   "source": [
    "evaluate_model(DummyClassifier(strategy=\"most_frequent\"),\"MajorityClass\")"
   ]
  },
  {
   "cell_type": "code",
   "execution_count": 87,
   "metadata": {},
   "outputs": [
    {
     "name": "stdout",
     "output_type": "stream",
     "text": [
      "Group Size Disparity completed.\n",
      "Prevalence Disparity completed.\n",
      "equal_opportunity completed.\n",
      "disparate_parity completed.\n",
      "individual_fairness completed.\n",
      "group_fairness completed.\n"
     ]
    }
   ],
   "source": [
    "evaluate_model(LinearSVC(random_state=0, tol=1e-3),\"LinearSVM\")"
   ]
  },
  {
   "cell_type": "code",
   "execution_count": 88,
   "metadata": {},
   "outputs": [
    {
     "name": "stdout",
     "output_type": "stream",
     "text": [
      "Group Size Disparity completed.\n",
      "Prevalence Disparity completed.\n",
      "equal_opportunity completed.\n",
      "disparate_parity completed.\n",
      "individual_fairness completed.\n",
      "group_fairness completed.\n"
     ]
    }
   ],
   "source": [
    "randomforest_parameters={\n",
    "    \"n_estimators\":range(25,150,25),\n",
    "    # \"max_depth\":[5,10,20,30,40],\n",
    "    # \"max_features\":[1,0.5, \"sqrt\"],\n",
    "}\n",
    "gridSearch_CVsettings={\n",
    "    \"n_splits\":5,\n",
    "    \"shuffle\":True,\n",
    "    \"random_state\":800\n",
    "}\n",
    "base_model=RandomForestClassifier( n_jobs=2, random_state =800)\n",
    "gridSearch_model=GridSearchCV(base_model,randomforest_parameters,cv=KFold(**gridSearch_CVsettings),scoring=\"f1\", n_jobs=5)\n",
    "evaluate_model(gridSearch_model,\"RandomForest\")"
   ]
  },
  {
   "cell_type": "code",
   "execution_count": 89,
   "metadata": {},
   "outputs": [
    {
     "name": "stdout",
     "output_type": "stream",
     "text": [
      "Group Size Disparity completed.\n",
      "Prevalence Disparity completed.\n",
      "equal_opportunity completed.\n",
      "disparate_parity completed.\n",
      "individual_fairness completed.\n",
      "group_fairness completed.\n"
     ]
    }
   ],
   "source": [
    "xgboost_parameters={\n",
    "    \"n_estimators\":range(50,300,50),\n",
    "    # \"max_depth\":[2,5,10],\n",
    "    \"learning_rate\":[0.01,0.1,0.5]\n",
    "}\n",
    "gridSearch_CVsettings={\n",
    "    \"n_splits\":5,\n",
    "    \"shuffle\":True,\n",
    "    \"random_state\":600\n",
    "}\n",
    "base_model=GradientBoostingClassifier(random_state=600)\n",
    "gridSearch_model=GridSearchCV(base_model,xgboost_parameters,cv=KFold(**gridSearch_CVsettings),scoring=\"f1\", n_jobs=5)\n",
    "evaluate_model(gridSearch_model,\"XGBoost\")"
   ]
  },
  {
   "cell_type": "code",
   "execution_count": 99,
   "metadata": {},
   "outputs": [
    {
     "name": "stdout",
     "output_type": "stream",
     "text": [
      "Group Size Disparity completed.\n",
      "Prevalence Disparity completed.\n",
      "equal_opportunity completed.\n",
      "disparate_parity completed.\n",
      "individual_fairness completed.\n",
      "group_fairness completed.\n"
     ]
    }
   ],
   "source": [
    "lightgbm_parameters={\n",
    "    \"n_estimators\":range(50,300,50),\n",
    "    # \"max_depth\":[2,5,10],#,20,30,40],\n",
    "    \"learning_rate\":[0.01,0.1, 0.5],\n",
    "}\n",
    "gridSearch_CVsettings={\n",
    "    \"n_splits\":5,\n",
    "    \"shuffle\":True,\n",
    "    \"random_state\":700\n",
    "}\n",
    "base_model=LGBMClassifier(objective=\"binary\", n_jobs=5, random_state =700, device_type =\"gpu\",verbosity=-1)\n",
    "gridSearch_model=GridSearchCV(base_model,lightgbm_parameters,cv=KFold(**gridSearch_CVsettings),scoring=\"f1\", n_jobs=5)\n",
    "evaluate_model(gridSearch_model,\"LightGBM\")"
   ]
  },
  {
   "cell_type": "code",
   "execution_count": 100,
   "metadata": {},
   "outputs": [
    {
     "name": "stdout",
     "output_type": "stream",
     "text": [
      "Group Size Disparity completed.\n",
      "Prevalence Disparity completed.\n",
      "equal_opportunity completed.\n",
      "disparate_parity completed.\n",
      "individual_fairness completed.\n",
      "group_fairness completed.\n"
     ]
    }
   ],
   "source": [
    "MLP_parameters={\n",
    "    # \"hidden_layer_sizes\":[(50,),(100,),(25,25),(75,25),(25,50,25),(10,30,10)],\n",
    "    \"hidden_layer_sizes\":[(25,25),(75,25),(25,50,25),(10,30,10)],\n",
    "    \"learning_rate_init\": [0.001,0.01,0.1]\n",
    "}\n",
    "gridSearch_CVsettings={\n",
    "    \"n_splits\":5,\n",
    "    \"shuffle\":True,\n",
    "    \"random_state\":900\n",
    "}\n",
    "base_model=MLPClassifier(random_state =900,batch_size=20)\n",
    "gridSearch_model=GridSearchCV(base_model,MLP_parameters,cv=KFold(**gridSearch_CVsettings),scoring=\"f1\", n_jobs=5)\n",
    "evaluate_model(gridSearch_model,\"MLP\")"
   ]
  },
  {
   "cell_type": "markdown",
   "metadata": {},
   "source": [
    "## Results"
   ]
  },
  {
   "cell_type": "code",
   "execution_count": 6,
   "metadata": {},
   "outputs": [],
   "source": [
    "cv_result_df=pd.read_csv(cv_result_path,header=0,index_col=0)\n",
    "cv_result_df = cv_result_df[cv_result_df['label'].isin(targets)]"
   ]
  },
  {
   "cell_type": "code",
   "execution_count": 7,
   "metadata": {},
   "outputs": [],
   "source": [
    "sns.set_style(\"ticks\")\n",
    "plt.rcParams.update({\"text.usetex\": True, \"font.family\": \"serif\", \"font.size\": 9})\n",
    "sns.set_style(rc={\"font.size\": 8})\n",
    "COLORS = ['#cdcdcd', '#00678a', '#984464', '#5eccab', '#56641a', '#e6a176', '#c0affb']"
   ]
  },
  {
   "cell_type": "code",
   "execution_count": 8,
   "metadata": {},
   "outputs": [
    {
     "data": {
      "text/plain": [
       "array(['MajorityClass', 'LinearSVM', 'RandomForest', 'XGBoost',\n",
       "       'LightGBM', 'MLP'], dtype=object)"
      ]
     },
     "execution_count": 8,
     "metadata": {},
     "output_type": "execute_result"
    }
   ],
   "source": [
    "cv_result_df[\"Model\"].unique()"
   ]
  },
  {
   "cell_type": "code",
   "execution_count": 9,
   "metadata": {},
   "outputs": [],
   "source": [
    "#Filtering out NaiveNormal models since their result will further distort the following graph \n",
    "model_colors = {'MajorityClass': COLORS[0], \n",
    "                'LinearSVM': COLORS[1], \n",
    "                'RandomForest': COLORS[5], \n",
    "                'XGBoost': COLORS[3],\n",
    "                'LightGBM': COLORS[4], \n",
    "                'MLP': COLORS[6]\n",
    "               }"
   ]
  },
  {
   "cell_type": "markdown",
   "metadata": {},
   "source": [
    "#### Overview Summary over all targets"
   ]
  },
  {
   "cell_type": "code",
   "execution_count": null,
   "metadata": {},
   "outputs": [
    {
     "data": {
      "image/png": "[encoded data removed]",
      "text/plain": [
       "<Figure size 120x120 with 1 Axes>"
      ]
     },
     "metadata": {},
     "output_type": "display_data"
    }
   ],
   "source": [
    "fig, ax = plt.subplots(1, 1, figsize=(1.2, 1.2))\n",
    "sns.barplot(x='Model', y='value', data=cv_result_df[cv_result_df['metric']=='Accuracy'], ax=ax, \n",
    "            palette=model_colors, hue='Model', legend='brief')\n",
    "ax.set_title('All Bias Scores')\n",
    "ax.legend(loc='center left', bbox_to_anchor=(1.05, 0.5), frameon=False)\n",
    "\n",
    "ax.set_xticklabels([]) \n",
    "ax.set_xticks([]) \n",
    "ax.set_ylabel('Accuracy')\n",
    "\n",
    "plt.savefig('plots/Q1/overall_comparison_models.pdf', bbox_inches='tight')\n",
    "plt.show()"
   ]
  },
  {
   "cell_type": "markdown",
   "metadata": {},
   "source": [
    "#### Model comparison"
   ]
  },
  {
   "cell_type": "code",
   "execution_count": null,
   "metadata": {},
   "outputs": [],
   "source": [
    "def display_full_result(df,metrics,save_path=\"\", figwidth=9):\n",
    "    df = df[df['metric']==metrics]\n",
    "    fig, axes = plt.subplots(1, len(df['label'].unique()), figsize=(figwidth,0.8), sharey=False)\n",
    "    for idx, target in enumerate(df['label'].unique()):\n",
    "        sns.barplot(data=df[df['label']==target], x='Model', y='value', ax=axes[idx], \n",
    "                    palette=model_colors, hue='Model', legend=False if idx!=2 else 'brief')\n",
    "        axes[idx].set_title(target_names_dict[target])\n",
    "        # axes[idx].set_xlabel(metrics)\n",
    "        axes[idx].set_xticks([], [])\n",
    "        if idx>0: axes[idx].set_ylabel('')\n",
    "    axes[0].set_ylabel(metrics)\n",
    "    axes[2].legend(ncol=1, loc='upper left', bbox_to_anchor=(1.15, 1.5), frameon=False)\n",
    "    # axes[2].legend(ncol=4, loc='upper center', bbox_to_anchor=(1.2, -0.4), frameon=False)\n",
    "    plt.subplots_adjust(wspace=0.4)\n",
    "    plt.savefig(f'plots/Q1/comparison_models_{metrics}{save_path}.pdf', bbox_inches='tight')\n",
    "    plt.show()"
   ]
  },
  {
   "cell_type": "code",
   "execution_count": 41,
   "metadata": {
    "scrolled": true
   },
   "outputs": [
    {
     "data": {
      "image/png": "[encoded data removed]",
      "text/plain": [
       "<Figure size 600x80 with 3 Axes>"
      ]
     },
     "metadata": {},
     "output_type": "display_data"
    }
   ],
   "source": [
    "display_full_result(cv_result_df,\"Accuracy\", figwidth=6)"
   ]
  },
  {
   "cell_type": "code",
   "execution_count": 43,
   "metadata": {},
   "outputs": [
    {
     "data": {
      "image/png": "[encoded data removed]",
      "text/plain": [
       "<Figure size 600x80 with 3 Axes>"
      ]
     },
     "metadata": {},
     "output_type": "display_data"
    }
   ],
   "source": [
    "display_full_result(cv_result_df,\"F1 Score\", figwidth=6)"
   ]
  },
  {
   "cell_type": "code",
   "execution_count": null,
   "metadata": {},
   "outputs": [],
   "source": [
    "def display_individual_axis_result(df,metrics,save_path=\"\", figwidth=9):\n",
    "    df = df[df['metric']==metrics]\n",
    "    fig, axes = plt.subplots(1, len(df['label'].unique()), figsize=(figwidth,0.8), sharey=False)\n",
    "    for idx, target in enumerate(df['label'].unique()):\n",
    "        sns.boxplot(data=df[df['label']==target], x='Model', y='value', ax=axes[idx], \n",
    "                    palette=model_colors, hue='Model', legend=False if idx!=2 else 'brief', linewidth=0.5, fliersize=0.5)\n",
    "        axes[idx].set_title(target_names_dict[target])\n",
    "        # axes[idx].set_xlabel(metrics)\n",
    "        axes[idx].set_xticks([], [])\n",
    "        if idx>0: axes[idx].set_ylabel('')\n",
    "    axes[0].set_ylabel(metrics)\n",
    "    axes[2].legend(ncol=1, loc='upper left', bbox_to_anchor=(1.15, 1.5), frameon=False)\n",
    "    plt.subplots_adjust(wspace=0.5)\n",
    "    plt.savefig(f'plots/Q1/comparison_models_{metrics}{save_path}.pdf', bbox_inches='tight')\n",
    "    plt.show()"
   ]
  },
  {
   "cell_type": "code",
   "execution_count": 24,
   "metadata": {},
   "outputs": [
    {
     "data": {
      "image/png": "[encoded data removed]",
      "text/plain": [
       "<Figure size 350x80 with 3 Axes>"
      ]
     },
     "metadata": {},
     "output_type": "display_data"
    }
   ],
   "source": [
    "df = cv_result_df[cv_result_df['metric']=='Accuracy']\n",
    "df_sel = df[df[\"Model\"].isin([\"MajorityClass\",\"XGBoost\",\"LightGBM\",\"RandomForest\"])]\n",
    "display_individual_axis_result(df_sel,\"Accuracy\", figwidth=3.5, save_path='_sel')"
   ]
  },
  {
   "cell_type": "code",
   "execution_count": null,
   "metadata": {},
   "outputs": [],
   "source": [
    "def display_selective_result(df,metrics,save_path=\"\", figwidth=9, figheight=1.4):\n",
    "    df = df[df['metric']==metrics]\n",
    "    g = sns.catplot(kind='bar', palette=model_colors, legend='brief', \n",
    "                aspect=figwidth/figheight, height=figheight,\n",
    "                data=df, x='label', y='value', hue='Model')\n",
    "    new_labels = [target_names_dict[label.get_text()] for label in g.ax.get_xticklabels()]\n",
    "    g.ax.set_xticklabels(new_labels)\n",
    "    g.ax.set_xlabel(\"\")\n",
    "    g.ax.set_ylabel(metrics)\n",
    "    sns.move_legend(g, \"upper left\", bbox_to_anchor=(0.75, 0.9), frameon=False, ncol=1)\n",
    "    # sns.move_legend(g, \"lower center\", bbox_to_anchor=(0.44, -0.15), frameon=False, ncol=4)\n",
    "    g.legend.set_title(\"\")\n",
    "    plt.savefig(f'Plots/Q1/comparison_models_selective_{metrics}{save_path}.pdf', bbox_inches='tight')\n",
    "    plt.show()"
   ]
  },
  {
   "cell_type": "code",
   "execution_count": 56,
   "metadata": {},
   "outputs": [
    {
     "data": {
      "image/png": "[encoded data removed]",
      "text/plain": [
       "<Figure size 476.52x140 with 1 Axes>"
      ]
     },
     "metadata": {},
     "output_type": "display_data"
    }
   ],
   "source": [
    "df = cv_result_df[cv_result_df['metric']=='Accuracy']\n",
    "df_sel = df[df[\"Model\"].isin([\"MajorityClass\",\"XGBoost\",\"LightGBM\",\"RandomForest\"])]\n",
    "display_selective_result(df_sel, 'Accuracy', figwidth=3.5)"
   ]
  },
  {
   "cell_type": "markdown",
   "metadata": {},
   "source": [
    "#### High-level Statistical Summary"
   ]
  },
  {
   "cell_type": "code",
   "execution_count": 57,
   "metadata": {
    "scrolled": true
   },
   "outputs": [],
   "source": [
    "df = cv_result_df[cv_result_df['metric']=='Accuracy']\n",
    "df = df[['Model', 'label', 'value', 'Fold']]\n",
    "df_piv = df.pivot(index=['Fold','label'], columns='Model', values='value')"
   ]
  },
  {
   "cell_type": "code",
   "execution_count": 58,
   "metadata": {},
   "outputs": [],
   "source": [
    "result = autorank(df_piv, alpha=0.01)"
   ]
  },
  {
   "cell_type": "code",
   "execution_count": null,
   "metadata": {},
   "outputs": [
    {
     "data": {
      "image/png": "[encoded data removed]",
      "text/plain": [
       "<Figure size 150x160 with 1 Axes>"
      ]
     },
     "metadata": {},
     "output_type": "display_data"
    }
   ],
   "source": [
    "plt.rc('text', usetex=False)\n",
    "\n",
    "fig, ax = plt.subplots(1, 1, figsize=(1.5, 1.6))\n",
    "\n",
    "plot_stats(result, ax=ax)\n",
    "plt.savefig('plots/Q1/combined_CD_plot.pdf', bbox_inches='tight')\n",
    "plt.show()"
   ]
  },
  {
   "cell_type": "code",
   "execution_count": 60,
   "metadata": {},
   "outputs": [
    {
     "name": "stdout",
     "output_type": "stream",
     "text": [
      "The statistical analysis was conducted for 6 populations with 30 paired samples.\n",
      "The family-wise significance level of the tests is alpha=0.010.\n",
      "We rejected the null hypothesis that the population is normal for the populations MLP (p=0.001) and LightGBM (p=0.001). Therefore, we assume that not all populations are normal.\n",
      "Because we have more than two populations and the populations and some of them are not normal, we use the non-parametric Friedman test as omnibus test to determine if there are any significant differences between the median values of the populations. We use the post-hoc Nemenyi test to infer which differences are significant. We report the median (MD), the median absolute deviation (MAD) and the mean rank (MR) among all populations over the samples. Differences between populations are significant, if the difference of the mean rank is greater than the critical distance CD=1.625 of the Nemenyi test.\n",
      "We reject the null hypothesis (p=0.000) of the Friedman test that there is no difference in the central tendency of the populations MLP (MD=0.605+-0.175, MAD=0.090, MR=5.233), LinearSVM (MD=0.635+-0.160, MAD=0.065, MR=4.850), MajorityClass (MD=0.650+-0.070, MAD=0.045, MR=4.317), RandomForest (MD=0.730+-0.155, MAD=0.065, MR=2.350), XGBoost (MD=0.750+-0.150, MAD=0.060, MR=2.167), and LightGBM (MD=0.760+-0.155, MAD=0.080, MR=2.083). Therefore, we assume that there is a statistically significant difference between the median values of the populations.\n",
      "Based on the post-hoc Nemenyi test, we assume that there are no significant differences within the following groups: MLP, LinearSVM, and MajorityClass; RandomForest, XGBoost, and LightGBM. All other differences are significant.\n"
     ]
    }
   ],
   "source": [
    "create_report(result)"
   ]
  },
  {
   "cell_type": "code",
   "execution_count": null,
   "metadata": {},
   "outputs": [],
   "source": []
  }
 ],
 "metadata": {
  "kernelspec": {
   "display_name": "meta.venv",
   "language": "python",
   "name": "meta.venv"
  },
  "language_info": {
   "codemirror_mode": {
    "name": "ipython",
    "version": 3
   },
   "file_extension": ".py",
   "mimetype": "text/x-python",
   "name": "python",
   "nbconvert_exporter": "python",
   "pygments_lexer": "ipython3",
   "version": "3.13.0"
  }
 },
 "nbformat": 4,
 "nbformat_minor": 4
}
