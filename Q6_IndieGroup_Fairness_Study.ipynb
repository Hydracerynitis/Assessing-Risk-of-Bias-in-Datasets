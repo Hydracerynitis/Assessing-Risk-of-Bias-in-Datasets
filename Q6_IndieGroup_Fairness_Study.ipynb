{
 "cells": [
  {
   "cell_type": "code",
   "execution_count": 1,
   "metadata": {},
   "outputs": [],
   "source": [
    "import warnings\n",
    "import sys\n",
    "import os\n",
    "import textwrap\n",
    "\n",
    "import numpy as np\n",
    "import pandas as pd\n",
    "import seaborn as sns\n",
    "import matplotlib.pyplot as plt\n",
    "import matplotlib.ticker as ticker\n",
    "import matplotlib.gridspec as gridspec\n",
    "\n",
    "from pathlib import Path\n",
    "from sklearn.model_selection import KFold, GridSearchCV\n",
    "from sklearn.linear_model import LinearRegression, LassoCV\n",
    "from sklearn.ensemble import RandomForestRegressor\n",
    "from sklearn.neural_network import MLPRegressor\n",
    "from sklearn.dummy import DummyRegressor\n",
    "from sklearn.metrics import mean_squared_error,mean_absolute_error,root_mean_squared_error,mean_absolute_percentage_error, mean_squared_log_error\n",
    "from xgboost import XGBRegressor\n",
    "from lightgbm import LGBMRegressor\n",
    "from tqdm import tqdm"
   ]
  },
  {
   "cell_type": "code",
   "execution_count": 2,
   "metadata": {},
   "outputs": [],
   "source": [
    "#Mute warning during training for clean log outputs\n",
    "if not sys.warnoptions:\n",
    "    warnings.simplefilter(\"ignore\")\n",
    "    os.environ[\"PYTHONWARNINGS\"] = \"ignore\""
   ]
  },
  {
   "cell_type": "code",
   "execution_count": 3,
   "metadata": {},
   "outputs": [],
   "source": [
    "#Irrelevent features\n",
    "config_key=[\"dataset_random_state\",\"n_samples\",\"n_informative\",\"n_redundant\",\"n_repeated\",\"n_classes\",\n",
    "            \"class_imbalanced\",\n",
    "            \"n_clusters_per_class\", \"positive_class_num\", \"sensitive_random_state\", \"continous_groups\", \n",
    "            \"sensitive_imbalanced\",\n",
    "            \"n_group\", \"group_dimension\", \"k\", \"prev_weight\", \"random_walk\", \"coefficient\", \n",
    "            \"landmarking_random_state\",\"n_features\",\n",
    "            \"class_weight\",\"sensitive_group_scores\"]\n",
    "\n",
    "error_feature=[\"leaves_per_class.mean\",'Group Size Disparity', 'Prevalence Disparity','disparate_parity', 'equal_opportunity']\n",
    "#Target Labels 'Disparate Parity', 'Equal Opportunity'\n",
    "bias_score_key=[\"individual_fairness\",\"group_fairness\"]\n",
    "target_names = ['Individual Fairness', 'Group Fairness']\n",
    "target_names_w = [textwrap.fill(name, width=10, break_long_words=False) for name in target_names]\n",
    "target_names_dict = dict(zip(bias_score_key, target_names_w))"
   ]
  },
  {
   "cell_type": "code",
   "execution_count": 4,
   "metadata": {},
   "outputs": [],
   "source": [
    "df=pd.read_csv(\"artifact/metadataset.csv\")\n",
    "df=df.drop(config_key,axis=1)\n",
    "X=df.drop(bias_score_key,axis=1)\n",
    "X=X.drop(error_feature,axis=1)\n",
    "Y=df[bias_score_key]"
   ]
  },
  {
   "cell_type": "code",
   "execution_count": 5,
   "metadata": {},
   "outputs": [
    {
     "data": {
      "text/html": [
       "<div>\n",
       "<style scoped>\n",
       "    .dataframe tbody tr th:only-of-type {\n",
       "        vertical-align: middle;\n",
       "    }\n",
       "\n",
       "    .dataframe tbody tr th {\n",
       "        vertical-align: top;\n",
       "    }\n",
       "\n",
       "    .dataframe thead th {\n",
       "        text-align: right;\n",
       "    }\n",
       "</style>\n",
       "<table border=\"1\" class=\"dataframe\">\n",
       "  <thead>\n",
       "    <tr style=\"text-align: right;\">\n",
       "      <th></th>\n",
       "      <th>attr_conc.mean</th>\n",
       "      <th>attr_ent.mean</th>\n",
       "      <th>best_node.mean</th>\n",
       "      <th>c1</th>\n",
       "      <th>c2</th>\n",
       "      <th>class_conc.mean</th>\n",
       "      <th>class_ent</th>\n",
       "      <th>cls_coef</th>\n",
       "      <th>density</th>\n",
       "      <th>elite_nn.mean</th>\n",
       "      <th>...</th>\n",
       "      <th>tree_imbalance.mean</th>\n",
       "      <th>tree_shape.mean</th>\n",
       "      <th>var_importance.mean</th>\n",
       "      <th>worst_node.mean</th>\n",
       "      <th>Group Size Disparity</th>\n",
       "      <th>Prevalence Disparity</th>\n",
       "      <th>equal_opportunity</th>\n",
       "      <th>disparate_parity</th>\n",
       "      <th>individual_fairness</th>\n",
       "      <th>group_fairness</th>\n",
       "    </tr>\n",
       "  </thead>\n",
       "  <tbody>\n",
       "    <tr>\n",
       "      <th>11178</th>\n",
       "      <td>0.028369</td>\n",
       "      <td>4.169925</td>\n",
       "      <td>0.450159</td>\n",
       "      <td>0.889191</td>\n",
       "      <td>7.822481e-02</td>\n",
       "      <td>0.009839</td>\n",
       "      <td>2.064637</td>\n",
       "      <td>0.360634</td>\n",
       "      <td>0.930325</td>\n",
       "      <td>0.309524</td>\n",
       "      <td>...</td>\n",
       "      <td>0.044973</td>\n",
       "      <td>0.006434</td>\n",
       "      <td>0.111111</td>\n",
       "      <td>0.416984</td>\n",
       "      <td>0.423557</td>\n",
       "      <td>0.008473</td>\n",
       "      <td>0.000000</td>\n",
       "      <td>0.000000</td>\n",
       "      <td>0.809801</td>\n",
       "      <td>0.809801</td>\n",
       "    </tr>\n",
       "    <tr>\n",
       "      <th>16121</th>\n",
       "      <td>0.006873</td>\n",
       "      <td>4.247927</td>\n",
       "      <td>0.589481</td>\n",
       "      <td>0.753067</td>\n",
       "      <td>2.004143e-01</td>\n",
       "      <td>0.006168</td>\n",
       "      <td>1.506134</td>\n",
       "      <td>0.458487</td>\n",
       "      <td>0.893997</td>\n",
       "      <td>0.455325</td>\n",
       "      <td>...</td>\n",
       "      <td>0.033754</td>\n",
       "      <td>0.006811</td>\n",
       "      <td>0.125000</td>\n",
       "      <td>0.477792</td>\n",
       "      <td>0.435487</td>\n",
       "      <td>0.000901</td>\n",
       "      <td>0.000000</td>\n",
       "      <td>0.000000</td>\n",
       "      <td>0.224457</td>\n",
       "      <td>0.224457</td>\n",
       "    </tr>\n",
       "    <tr>\n",
       "      <th>11180</th>\n",
       "      <td>0.028369</td>\n",
       "      <td>4.169925</td>\n",
       "      <td>0.450159</td>\n",
       "      <td>0.889191</td>\n",
       "      <td>7.822481e-02</td>\n",
       "      <td>0.009839</td>\n",
       "      <td>2.064637</td>\n",
       "      <td>0.360634</td>\n",
       "      <td>0.930325</td>\n",
       "      <td>0.309524</td>\n",
       "      <td>...</td>\n",
       "      <td>0.044973</td>\n",
       "      <td>0.006434</td>\n",
       "      <td>0.111111</td>\n",
       "      <td>0.416984</td>\n",
       "      <td>0.596359</td>\n",
       "      <td>0.009121</td>\n",
       "      <td>0.000000</td>\n",
       "      <td>0.000000</td>\n",
       "      <td>0.809801</td>\n",
       "      <td>1.242838</td>\n",
       "    </tr>\n",
       "    <tr>\n",
       "      <th>11179</th>\n",
       "      <td>0.028369</td>\n",
       "      <td>4.169925</td>\n",
       "      <td>0.450159</td>\n",
       "      <td>0.889191</td>\n",
       "      <td>7.822481e-02</td>\n",
       "      <td>0.009839</td>\n",
       "      <td>2.064637</td>\n",
       "      <td>0.360634</td>\n",
       "      <td>0.930325</td>\n",
       "      <td>0.309524</td>\n",
       "      <td>...</td>\n",
       "      <td>0.044973</td>\n",
       "      <td>0.006434</td>\n",
       "      <td>0.111111</td>\n",
       "      <td>0.416984</td>\n",
       "      <td>0.736331</td>\n",
       "      <td>0.006352</td>\n",
       "      <td>0.000000</td>\n",
       "      <td>0.000000</td>\n",
       "      <td>0.809801</td>\n",
       "      <td>0.809801</td>\n",
       "    </tr>\n",
       "    <tr>\n",
       "      <th>14345</th>\n",
       "      <td>0.013304</td>\n",
       "      <td>4.000000</td>\n",
       "      <td>0.434167</td>\n",
       "      <td>0.908047</td>\n",
       "      <td>6.340953e-02</td>\n",
       "      <td>0.010791</td>\n",
       "      <td>2.108420</td>\n",
       "      <td>0.403187</td>\n",
       "      <td>0.927511</td>\n",
       "      <td>0.325417</td>\n",
       "      <td>...</td>\n",
       "      <td>0.043233</td>\n",
       "      <td>0.008074</td>\n",
       "      <td>0.111111</td>\n",
       "      <td>0.363333</td>\n",
       "      <td>0.194355</td>\n",
       "      <td>0.013026</td>\n",
       "      <td>0.000000</td>\n",
       "      <td>0.000000</td>\n",
       "      <td>0.806490</td>\n",
       "      <td>0.806490</td>\n",
       "    </tr>\n",
       "    <tr>\n",
       "      <th>...</th>\n",
       "      <td>...</td>\n",
       "      <td>...</td>\n",
       "      <td>...</td>\n",
       "      <td>...</td>\n",
       "      <td>...</td>\n",
       "      <td>...</td>\n",
       "      <td>...</td>\n",
       "      <td>...</td>\n",
       "      <td>...</td>\n",
       "      <td>...</td>\n",
       "      <td>...</td>\n",
       "      <td>...</td>\n",
       "      <td>...</td>\n",
       "      <td>...</td>\n",
       "      <td>...</td>\n",
       "      <td>...</td>\n",
       "      <td>...</td>\n",
       "      <td>...</td>\n",
       "      <td>...</td>\n",
       "      <td>...</td>\n",
       "      <td>...</td>\n",
       "    </tr>\n",
       "    <tr>\n",
       "      <th>19980</th>\n",
       "      <td>0.999996</td>\n",
       "      <td>4.321928</td>\n",
       "      <td>0.992840</td>\n",
       "      <td>1.000000</td>\n",
       "      <td>1.097393e-06</td>\n",
       "      <td>0.051111</td>\n",
       "      <td>1.000000</td>\n",
       "      <td>0.184498</td>\n",
       "      <td>0.827018</td>\n",
       "      <td>0.985309</td>\n",
       "      <td>...</td>\n",
       "      <td>0.028313</td>\n",
       "      <td>0.029284</td>\n",
       "      <td>0.250000</td>\n",
       "      <td>0.992840</td>\n",
       "      <td>0.000247</td>\n",
       "      <td>0.492839</td>\n",
       "      <td>0.926168</td>\n",
       "      <td>0.997781</td>\n",
       "      <td>0.019400</td>\n",
       "      <td>0.019400</td>\n",
       "    </tr>\n",
       "    <tr>\n",
       "      <th>19979</th>\n",
       "      <td>0.999996</td>\n",
       "      <td>4.321928</td>\n",
       "      <td>0.992840</td>\n",
       "      <td>1.000000</td>\n",
       "      <td>1.097393e-06</td>\n",
       "      <td>0.051111</td>\n",
       "      <td>1.000000</td>\n",
       "      <td>0.184498</td>\n",
       "      <td>0.827018</td>\n",
       "      <td>0.985309</td>\n",
       "      <td>...</td>\n",
       "      <td>0.028313</td>\n",
       "      <td>0.029284</td>\n",
       "      <td>0.250000</td>\n",
       "      <td>0.992840</td>\n",
       "      <td>0.403243</td>\n",
       "      <td>0.492747</td>\n",
       "      <td>0.728352</td>\n",
       "      <td>0.997788</td>\n",
       "      <td>0.019400</td>\n",
       "      <td>0.019400</td>\n",
       "    </tr>\n",
       "    <tr>\n",
       "      <th>13191</th>\n",
       "      <td>0.999997</td>\n",
       "      <td>4.247926</td>\n",
       "      <td>0.995070</td>\n",
       "      <td>1.000000</td>\n",
       "      <td>1.586987e-07</td>\n",
       "      <td>0.051572</td>\n",
       "      <td>1.000000</td>\n",
       "      <td>0.183509</td>\n",
       "      <td>0.824175</td>\n",
       "      <td>0.990845</td>\n",
       "      <td>...</td>\n",
       "      <td>0.052211</td>\n",
       "      <td>0.057719</td>\n",
       "      <td>0.500000</td>\n",
       "      <td>0.995070</td>\n",
       "      <td>0.000000</td>\n",
       "      <td>0.495070</td>\n",
       "      <td>0.995207</td>\n",
       "      <td>0.998024</td>\n",
       "      <td>0.003631</td>\n",
       "      <td>0.003631</td>\n",
       "    </tr>\n",
       "    <tr>\n",
       "      <th>9550</th>\n",
       "      <td>0.425360</td>\n",
       "      <td>4.459432</td>\n",
       "      <td>0.994909</td>\n",
       "      <td>0.999998</td>\n",
       "      <td>4.231396e-06</td>\n",
       "      <td>0.031133</td>\n",
       "      <td>0.999998</td>\n",
       "      <td>0.394824</td>\n",
       "      <td>0.809100</td>\n",
       "      <td>0.989182</td>\n",
       "      <td>...</td>\n",
       "      <td>0.042606</td>\n",
       "      <td>0.040270</td>\n",
       "      <td>0.083333</td>\n",
       "      <td>0.994909</td>\n",
       "      <td>0.396321</td>\n",
       "      <td>0.495028</td>\n",
       "      <td>0.995636</td>\n",
       "      <td>0.998409</td>\n",
       "      <td>0.004567</td>\n",
       "      <td>0.004567</td>\n",
       "    </tr>\n",
       "    <tr>\n",
       "      <th>18781</th>\n",
       "      <td>0.999996</td>\n",
       "      <td>4.321928</td>\n",
       "      <td>0.995926</td>\n",
       "      <td>0.189414</td>\n",
       "      <td>9.402949e-01</td>\n",
       "      <td>0.021727</td>\n",
       "      <td>0.189414</td>\n",
       "      <td>0.212652</td>\n",
       "      <td>0.835000</td>\n",
       "      <td>0.991481</td>\n",
       "      <td>...</td>\n",
       "      <td>0.040652</td>\n",
       "      <td>0.041143</td>\n",
       "      <td>0.166667</td>\n",
       "      <td>0.995926</td>\n",
       "      <td>0.950123</td>\n",
       "      <td>0.497911</td>\n",
       "      <td>0.995822</td>\n",
       "      <td>0.999494</td>\n",
       "      <td>0.003756</td>\n",
       "      <td>0.003756</td>\n",
       "    </tr>\n",
       "  </tbody>\n",
       "</table>\n",
       "<p>20002 rows × 57 columns</p>\n",
       "</div>"
      ],
      "text/plain": [
       "       attr_conc.mean  attr_ent.mean  best_node.mean        c1            c2  \\\n",
       "11178        0.028369       4.169925        0.450159  0.889191  7.822481e-02   \n",
       "16121        0.006873       4.247927        0.589481  0.753067  2.004143e-01   \n",
       "11180        0.028369       4.169925        0.450159  0.889191  7.822481e-02   \n",
       "11179        0.028369       4.169925        0.450159  0.889191  7.822481e-02   \n",
       "14345        0.013304       4.000000        0.434167  0.908047  6.340953e-02   \n",
       "...               ...            ...             ...       ...           ...   \n",
       "19980        0.999996       4.321928        0.992840  1.000000  1.097393e-06   \n",
       "19979        0.999996       4.321928        0.992840  1.000000  1.097393e-06   \n",
       "13191        0.999997       4.247926        0.995070  1.000000  1.586987e-07   \n",
       "9550         0.425360       4.459432        0.994909  0.999998  4.231396e-06   \n",
       "18781        0.999996       4.321928        0.995926  0.189414  9.402949e-01   \n",
       "\n",
       "       class_conc.mean  class_ent  cls_coef   density  elite_nn.mean  ...  \\\n",
       "11178         0.009839   2.064637  0.360634  0.930325       0.309524  ...   \n",
       "16121         0.006168   1.506134  0.458487  0.893997       0.455325  ...   \n",
       "11180         0.009839   2.064637  0.360634  0.930325       0.309524  ...   \n",
       "11179         0.009839   2.064637  0.360634  0.930325       0.309524  ...   \n",
       "14345         0.010791   2.108420  0.403187  0.927511       0.325417  ...   \n",
       "...                ...        ...       ...       ...            ...  ...   \n",
       "19980         0.051111   1.000000  0.184498  0.827018       0.985309  ...   \n",
       "19979         0.051111   1.000000  0.184498  0.827018       0.985309  ...   \n",
       "13191         0.051572   1.000000  0.183509  0.824175       0.990845  ...   \n",
       "9550          0.031133   0.999998  0.394824  0.809100       0.989182  ...   \n",
       "18781         0.021727   0.189414  0.212652  0.835000       0.991481  ...   \n",
       "\n",
       "       tree_imbalance.mean  tree_shape.mean  var_importance.mean  \\\n",
       "11178             0.044973         0.006434             0.111111   \n",
       "16121             0.033754         0.006811             0.125000   \n",
       "11180             0.044973         0.006434             0.111111   \n",
       "11179             0.044973         0.006434             0.111111   \n",
       "14345             0.043233         0.008074             0.111111   \n",
       "...                    ...              ...                  ...   \n",
       "19980             0.028313         0.029284             0.250000   \n",
       "19979             0.028313         0.029284             0.250000   \n",
       "13191             0.052211         0.057719             0.500000   \n",
       "9550              0.042606         0.040270             0.083333   \n",
       "18781             0.040652         0.041143             0.166667   \n",
       "\n",
       "       worst_node.mean  Group Size Disparity  Prevalence Disparity  \\\n",
       "11178         0.416984              0.423557              0.008473   \n",
       "16121         0.477792              0.435487              0.000901   \n",
       "11180         0.416984              0.596359              0.009121   \n",
       "11179         0.416984              0.736331              0.006352   \n",
       "14345         0.363333              0.194355              0.013026   \n",
       "...                ...                   ...                   ...   \n",
       "19980         0.992840              0.000247              0.492839   \n",
       "19979         0.992840              0.403243              0.492747   \n",
       "13191         0.995070              0.000000              0.495070   \n",
       "9550          0.994909              0.396321              0.495028   \n",
       "18781         0.995926              0.950123              0.497911   \n",
       "\n",
       "       equal_opportunity  disparate_parity  individual_fairness  \\\n",
       "11178           0.000000          0.000000             0.809801   \n",
       "16121           0.000000          0.000000             0.224457   \n",
       "11180           0.000000          0.000000             0.809801   \n",
       "11179           0.000000          0.000000             0.809801   \n",
       "14345           0.000000          0.000000             0.806490   \n",
       "...                  ...               ...                  ...   \n",
       "19980           0.926168          0.997781             0.019400   \n",
       "19979           0.728352          0.997788             0.019400   \n",
       "13191           0.995207          0.998024             0.003631   \n",
       "9550            0.995636          0.998409             0.004567   \n",
       "18781           0.995822          0.999494             0.003756   \n",
       "\n",
       "       group_fairness  \n",
       "11178        0.809801  \n",
       "16121        0.224457  \n",
       "11180        1.242838  \n",
       "11179        0.809801  \n",
       "14345        0.806490  \n",
       "...               ...  \n",
       "19980        0.019400  \n",
       "19979        0.019400  \n",
       "13191        0.003631  \n",
       "9550         0.004567  \n",
       "18781        0.003756  \n",
       "\n",
       "[20002 rows x 57 columns]"
      ]
     },
     "execution_count": 5,
     "metadata": {},
     "output_type": "execute_result"
    }
   ],
   "source": [
    "df.sort_values(\"disparate_parity\")"
   ]
  },
  {
   "cell_type": "code",
   "execution_count": 6,
   "metadata": {},
   "outputs": [
    {
     "data": {
      "text/html": [
       "<div>\n",
       "<style scoped>\n",
       "    .dataframe tbody tr th:only-of-type {\n",
       "        vertical-align: middle;\n",
       "    }\n",
       "\n",
       "    .dataframe tbody tr th {\n",
       "        vertical-align: top;\n",
       "    }\n",
       "\n",
       "    .dataframe thead th {\n",
       "        text-align: right;\n",
       "    }\n",
       "</style>\n",
       "<table border=\"1\" class=\"dataframe\">\n",
       "  <thead>\n",
       "    <tr style=\"text-align: right;\">\n",
       "      <th></th>\n",
       "      <th>attr_conc.mean</th>\n",
       "      <th>attr_ent.mean</th>\n",
       "      <th>best_node.mean</th>\n",
       "      <th>c1</th>\n",
       "      <th>c2</th>\n",
       "      <th>class_conc.mean</th>\n",
       "      <th>class_ent</th>\n",
       "      <th>cls_coef</th>\n",
       "      <th>density</th>\n",
       "      <th>elite_nn.mean</th>\n",
       "      <th>...</th>\n",
       "      <th>tree_imbalance.mean</th>\n",
       "      <th>tree_shape.mean</th>\n",
       "      <th>var_importance.mean</th>\n",
       "      <th>worst_node.mean</th>\n",
       "      <th>Group Size Disparity</th>\n",
       "      <th>Prevalence Disparity</th>\n",
       "      <th>equal_opportunity</th>\n",
       "      <th>disparate_parity</th>\n",
       "      <th>individual_fairness</th>\n",
       "      <th>group_fairness</th>\n",
       "    </tr>\n",
       "  </thead>\n",
       "  <tbody>\n",
       "    <tr>\n",
       "      <th>11719</th>\n",
       "      <td>0.999998</td>\n",
       "      <td>4.000000</td>\n",
       "      <td>0.993182</td>\n",
       "      <td>0.999985</td>\n",
       "      <td>4.132146e-05</td>\n",
       "      <td>0.064986</td>\n",
       "      <td>0.999985</td>\n",
       "      <td>0.186133</td>\n",
       "      <td>0.827738</td>\n",
       "      <td>0.987273</td>\n",
       "      <td>...</td>\n",
       "      <td>0.067875</td>\n",
       "      <td>0.076065</td>\n",
       "      <td>0.166667</td>\n",
       "      <td>0.993182</td>\n",
       "      <td>1.277208</td>\n",
       "      <td>0.240883</td>\n",
       "      <td>0.505593</td>\n",
       "      <td>0.324224</td>\n",
       "      <td>0.018997</td>\n",
       "      <td>-0.059135</td>\n",
       "    </tr>\n",
       "    <tr>\n",
       "      <th>11720</th>\n",
       "      <td>0.999998</td>\n",
       "      <td>4.000000</td>\n",
       "      <td>0.993182</td>\n",
       "      <td>0.999985</td>\n",
       "      <td>4.132146e-05</td>\n",
       "      <td>0.064986</td>\n",
       "      <td>0.999985</td>\n",
       "      <td>0.186133</td>\n",
       "      <td>0.827738</td>\n",
       "      <td>0.987273</td>\n",
       "      <td>...</td>\n",
       "      <td>0.067875</td>\n",
       "      <td>0.076065</td>\n",
       "      <td>0.166667</td>\n",
       "      <td>0.993182</td>\n",
       "      <td>1.087342</td>\n",
       "      <td>0.285995</td>\n",
       "      <td>0.505593</td>\n",
       "      <td>0.468254</td>\n",
       "      <td>0.018997</td>\n",
       "      <td>-0.040778</td>\n",
       "    </tr>\n",
       "    <tr>\n",
       "      <th>13513</th>\n",
       "      <td>0.999996</td>\n",
       "      <td>4.321928</td>\n",
       "      <td>0.995595</td>\n",
       "      <td>1.000000</td>\n",
       "      <td>1.020408e-06</td>\n",
       "      <td>0.051710</td>\n",
       "      <td>1.000000</td>\n",
       "      <td>0.182523</td>\n",
       "      <td>0.824633</td>\n",
       "      <td>0.990952</td>\n",
       "      <td>...</td>\n",
       "      <td>0.056919</td>\n",
       "      <td>0.049253</td>\n",
       "      <td>0.166667</td>\n",
       "      <td>0.995595</td>\n",
       "      <td>1.199286</td>\n",
       "      <td>0.425246</td>\n",
       "      <td>0.598088</td>\n",
       "      <td>0.690552</td>\n",
       "      <td>0.007196</td>\n",
       "      <td>-0.039756</td>\n",
       "    </tr>\n",
       "    <tr>\n",
       "      <th>7609</th>\n",
       "      <td>0.654952</td>\n",
       "      <td>4.584962</td>\n",
       "      <td>0.986291</td>\n",
       "      <td>1.000000</td>\n",
       "      <td>3.157756e-07</td>\n",
       "      <td>0.033131</td>\n",
       "      <td>1.000000</td>\n",
       "      <td>0.322430</td>\n",
       "      <td>0.823491</td>\n",
       "      <td>0.978808</td>\n",
       "      <td>...</td>\n",
       "      <td>0.031296</td>\n",
       "      <td>0.014372</td>\n",
       "      <td>0.090909</td>\n",
       "      <td>0.986291</td>\n",
       "      <td>1.541987</td>\n",
       "      <td>0.410856</td>\n",
       "      <td>0.005577</td>\n",
       "      <td>0.571697</td>\n",
       "      <td>0.035486</td>\n",
       "      <td>-0.034283</td>\n",
       "    </tr>\n",
       "    <tr>\n",
       "      <th>12332</th>\n",
       "      <td>0.999997</td>\n",
       "      <td>4.087461</td>\n",
       "      <td>0.992545</td>\n",
       "      <td>0.518285</td>\n",
       "      <td>7.415571e-01</td>\n",
       "      <td>0.055653</td>\n",
       "      <td>0.518285</td>\n",
       "      <td>0.199173</td>\n",
       "      <td>0.837657</td>\n",
       "      <td>0.985455</td>\n",
       "      <td>...</td>\n",
       "      <td>0.046519</td>\n",
       "      <td>0.058012</td>\n",
       "      <td>0.333333</td>\n",
       "      <td>0.992545</td>\n",
       "      <td>0.725572</td>\n",
       "      <td>0.046758</td>\n",
       "      <td>0.075768</td>\n",
       "      <td>0.082357</td>\n",
       "      <td>0.009912</td>\n",
       "      <td>-0.031791</td>\n",
       "    </tr>\n",
       "    <tr>\n",
       "      <th>...</th>\n",
       "      <td>...</td>\n",
       "      <td>...</td>\n",
       "      <td>...</td>\n",
       "      <td>...</td>\n",
       "      <td>...</td>\n",
       "      <td>...</td>\n",
       "      <td>...</td>\n",
       "      <td>...</td>\n",
       "      <td>...</td>\n",
       "      <td>...</td>\n",
       "      <td>...</td>\n",
       "      <td>...</td>\n",
       "      <td>...</td>\n",
       "      <td>...</td>\n",
       "      <td>...</td>\n",
       "      <td>...</td>\n",
       "      <td>...</td>\n",
       "      <td>...</td>\n",
       "      <td>...</td>\n",
       "      <td>...</td>\n",
       "      <td>...</td>\n",
       "    </tr>\n",
       "    <tr>\n",
       "      <th>11773</th>\n",
       "      <td>0.008865</td>\n",
       "      <td>4.169924</td>\n",
       "      <td>0.302656</td>\n",
       "      <td>0.977741</td>\n",
       "      <td>1.657920e-02</td>\n",
       "      <td>0.009874</td>\n",
       "      <td>2.527425</td>\n",
       "      <td>0.374663</td>\n",
       "      <td>0.944347</td>\n",
       "      <td>0.210156</td>\n",
       "      <td>...</td>\n",
       "      <td>0.044787</td>\n",
       "      <td>0.006108</td>\n",
       "      <td>0.142857</td>\n",
       "      <td>0.300312</td>\n",
       "      <td>0.861816</td>\n",
       "      <td>0.013133</td>\n",
       "      <td>0.159246</td>\n",
       "      <td>0.066452</td>\n",
       "      <td>1.542377</td>\n",
       "      <td>2.278060</td>\n",
       "    </tr>\n",
       "    <tr>\n",
       "      <th>12326</th>\n",
       "      <td>0.006839</td>\n",
       "      <td>4.169924</td>\n",
       "      <td>0.430328</td>\n",
       "      <td>0.860736</td>\n",
       "      <td>9.974572e-02</td>\n",
       "      <td>0.005920</td>\n",
       "      <td>2.224971</td>\n",
       "      <td>0.449839</td>\n",
       "      <td>0.932944</td>\n",
       "      <td>0.310164</td>\n",
       "      <td>...</td>\n",
       "      <td>0.045184</td>\n",
       "      <td>0.005966</td>\n",
       "      <td>0.111111</td>\n",
       "      <td>0.314754</td>\n",
       "      <td>0.892634</td>\n",
       "      <td>0.064360</td>\n",
       "      <td>0.118109</td>\n",
       "      <td>0.085631</td>\n",
       "      <td>1.799433</td>\n",
       "      <td>2.352159</td>\n",
       "    </tr>\n",
       "    <tr>\n",
       "      <th>16979</th>\n",
       "      <td>0.011901</td>\n",
       "      <td>4.087462</td>\n",
       "      <td>0.405517</td>\n",
       "      <td>0.858266</td>\n",
       "      <td>1.118249e-01</td>\n",
       "      <td>0.012455</td>\n",
       "      <td>2.218587</td>\n",
       "      <td>0.412603</td>\n",
       "      <td>0.925579</td>\n",
       "      <td>0.293103</td>\n",
       "      <td>...</td>\n",
       "      <td>0.037547</td>\n",
       "      <td>0.007852</td>\n",
       "      <td>0.100000</td>\n",
       "      <td>0.361207</td>\n",
       "      <td>0.630666</td>\n",
       "      <td>0.035257</td>\n",
       "      <td>0.515949</td>\n",
       "      <td>0.078493</td>\n",
       "      <td>1.860144</td>\n",
       "      <td>2.384954</td>\n",
       "    </tr>\n",
       "    <tr>\n",
       "      <th>1791</th>\n",
       "      <td>0.009976</td>\n",
       "      <td>4.392317</td>\n",
       "      <td>0.392277</td>\n",
       "      <td>0.817110</td>\n",
       "      <td>1.061757e-01</td>\n",
       "      <td>0.004091</td>\n",
       "      <td>2.112199</td>\n",
       "      <td>0.426019</td>\n",
       "      <td>0.937980</td>\n",
       "      <td>0.254554</td>\n",
       "      <td>...</td>\n",
       "      <td>0.039191</td>\n",
       "      <td>0.004457</td>\n",
       "      <td>0.055556</td>\n",
       "      <td>0.323663</td>\n",
       "      <td>0.848475</td>\n",
       "      <td>0.041189</td>\n",
       "      <td>0.095157</td>\n",
       "      <td>0.083198</td>\n",
       "      <td>1.636548</td>\n",
       "      <td>2.400344</td>\n",
       "    </tr>\n",
       "    <tr>\n",
       "      <th>13970</th>\n",
       "      <td>0.033678</td>\n",
       "      <td>3.700436</td>\n",
       "      <td>0.467600</td>\n",
       "      <td>0.896924</td>\n",
       "      <td>9.576165e-02</td>\n",
       "      <td>0.030787</td>\n",
       "      <td>2.318514</td>\n",
       "      <td>0.305894</td>\n",
       "      <td>0.918474</td>\n",
       "      <td>0.420800</td>\n",
       "      <td>...</td>\n",
       "      <td>0.056178</td>\n",
       "      <td>0.014239</td>\n",
       "      <td>0.166667</td>\n",
       "      <td>0.421200</td>\n",
       "      <td>0.398669</td>\n",
       "      <td>0.013724</td>\n",
       "      <td>0.218541</td>\n",
       "      <td>0.040921</td>\n",
       "      <td>1.959050</td>\n",
       "      <td>2.446373</td>\n",
       "    </tr>\n",
       "  </tbody>\n",
       "</table>\n",
       "<p>20002 rows × 57 columns</p>\n",
       "</div>"
      ],
      "text/plain": [
       "       attr_conc.mean  attr_ent.mean  best_node.mean        c1            c2  \\\n",
       "11719        0.999998       4.000000        0.993182  0.999985  4.132146e-05   \n",
       "11720        0.999998       4.000000        0.993182  0.999985  4.132146e-05   \n",
       "13513        0.999996       4.321928        0.995595  1.000000  1.020408e-06   \n",
       "7609         0.654952       4.584962        0.986291  1.000000  3.157756e-07   \n",
       "12332        0.999997       4.087461        0.992545  0.518285  7.415571e-01   \n",
       "...               ...            ...             ...       ...           ...   \n",
       "11773        0.008865       4.169924        0.302656  0.977741  1.657920e-02   \n",
       "12326        0.006839       4.169924        0.430328  0.860736  9.974572e-02   \n",
       "16979        0.011901       4.087462        0.405517  0.858266  1.118249e-01   \n",
       "1791         0.009976       4.392317        0.392277  0.817110  1.061757e-01   \n",
       "13970        0.033678       3.700436        0.467600  0.896924  9.576165e-02   \n",
       "\n",
       "       class_conc.mean  class_ent  cls_coef   density  elite_nn.mean  ...  \\\n",
       "11719         0.064986   0.999985  0.186133  0.827738       0.987273  ...   \n",
       "11720         0.064986   0.999985  0.186133  0.827738       0.987273  ...   \n",
       "13513         0.051710   1.000000  0.182523  0.824633       0.990952  ...   \n",
       "7609          0.033131   1.000000  0.322430  0.823491       0.978808  ...   \n",
       "12332         0.055653   0.518285  0.199173  0.837657       0.985455  ...   \n",
       "...                ...        ...       ...       ...            ...  ...   \n",
       "11773         0.009874   2.527425  0.374663  0.944347       0.210156  ...   \n",
       "12326         0.005920   2.224971  0.449839  0.932944       0.310164  ...   \n",
       "16979         0.012455   2.218587  0.412603  0.925579       0.293103  ...   \n",
       "1791          0.004091   2.112199  0.426019  0.937980       0.254554  ...   \n",
       "13970         0.030787   2.318514  0.305894  0.918474       0.420800  ...   \n",
       "\n",
       "       tree_imbalance.mean  tree_shape.mean  var_importance.mean  \\\n",
       "11719             0.067875         0.076065             0.166667   \n",
       "11720             0.067875         0.076065             0.166667   \n",
       "13513             0.056919         0.049253             0.166667   \n",
       "7609              0.031296         0.014372             0.090909   \n",
       "12332             0.046519         0.058012             0.333333   \n",
       "...                    ...              ...                  ...   \n",
       "11773             0.044787         0.006108             0.142857   \n",
       "12326             0.045184         0.005966             0.111111   \n",
       "16979             0.037547         0.007852             0.100000   \n",
       "1791              0.039191         0.004457             0.055556   \n",
       "13970             0.056178         0.014239             0.166667   \n",
       "\n",
       "       worst_node.mean  Group Size Disparity  Prevalence Disparity  \\\n",
       "11719         0.993182              1.277208              0.240883   \n",
       "11720         0.993182              1.087342              0.285995   \n",
       "13513         0.995595              1.199286              0.425246   \n",
       "7609          0.986291              1.541987              0.410856   \n",
       "12332         0.992545              0.725572              0.046758   \n",
       "...                ...                   ...                   ...   \n",
       "11773         0.300312              0.861816              0.013133   \n",
       "12326         0.314754              0.892634              0.064360   \n",
       "16979         0.361207              0.630666              0.035257   \n",
       "1791          0.323663              0.848475              0.041189   \n",
       "13970         0.421200              0.398669              0.013724   \n",
       "\n",
       "       equal_opportunity  disparate_parity  individual_fairness  \\\n",
       "11719           0.505593          0.324224             0.018997   \n",
       "11720           0.505593          0.468254             0.018997   \n",
       "13513           0.598088          0.690552             0.007196   \n",
       "7609            0.005577          0.571697             0.035486   \n",
       "12332           0.075768          0.082357             0.009912   \n",
       "...                  ...               ...                  ...   \n",
       "11773           0.159246          0.066452             1.542377   \n",
       "12326           0.118109          0.085631             1.799433   \n",
       "16979           0.515949          0.078493             1.860144   \n",
       "1791            0.095157          0.083198             1.636548   \n",
       "13970           0.218541          0.040921             1.959050   \n",
       "\n",
       "       group_fairness  \n",
       "11719       -0.059135  \n",
       "11720       -0.040778  \n",
       "13513       -0.039756  \n",
       "7609        -0.034283  \n",
       "12332       -0.031791  \n",
       "...               ...  \n",
       "11773        2.278060  \n",
       "12326        2.352159  \n",
       "16979        2.384954  \n",
       "1791         2.400344  \n",
       "13970        2.446373  \n",
       "\n",
       "[20002 rows x 57 columns]"
      ]
     },
     "execution_count": 6,
     "metadata": {},
     "output_type": "execute_result"
    }
   ],
   "source": [
    "df.sort_values(\"group_fairness\")"
   ]
  },
  {
   "cell_type": "code",
   "execution_count": 5,
   "metadata": {},
   "outputs": [
    {
     "data": {
      "text/plain": [
       "Index(['attr_conc.mean', 'attr_ent.mean', 'best_node.mean', 'c1', 'c2',\n",
       "       'class_conc.mean', 'class_ent', 'cls_coef', 'density', 'elite_nn.mean',\n",
       "       'eq_num_attr', 'f1.mean', 'f1v.mean', 'f2.mean', 'f3.mean', 'f4.mean',\n",
       "       'hubs.mean', 'joint_ent.mean', 'l1.mean', 'l2.mean', 'l3.mean',\n",
       "       'leaves', 'leaves_branch.mean', 'leaves_corrob.mean',\n",
       "       'leaves_homo.mean', 'linear_discr.mean', 'lsc', 'mut_inf.mean', 'n1',\n",
       "       'n2.mean', 'n3.mean', 'n4.mean', 'naive_bayes.mean', 'nodes',\n",
       "       'nodes_per_attr', 'nodes_per_inst', 'nodes_per_level.mean',\n",
       "       'nodes_repeated.mean', 'ns_ratio', 'one_nn.mean', 'random_node.mean',\n",
       "       't1', 't2', 't3', 't4', 'tree_depth.mean', 'tree_imbalance.mean',\n",
       "       'tree_shape.mean', 'var_importance.mean', 'worst_node.mean'],\n",
       "      dtype='object')"
      ]
     },
     "execution_count": 5,
     "metadata": {},
     "output_type": "execute_result"
    }
   ],
   "source": [
    "X.columns"
   ]
  },
  {
   "cell_type": "code",
   "execution_count": 6,
   "metadata": {},
   "outputs": [
    {
     "data": {
      "text/plain": [
       "Index(['individual_fairness', 'group_fairness'], dtype='object')"
      ]
     },
     "execution_count": 6,
     "metadata": {},
     "output_type": "execute_result"
    }
   ],
   "source": [
    "Y.columns"
   ]
  },
  {
   "cell_type": "code",
   "execution_count": 34,
   "metadata": {},
   "outputs": [],
   "source": [
    "cv_result_path=\"experiment_result/Q6_result.csv\"\n",
    "avg_result_path=\"experiment_result/Q6_average_result.csv\"\n",
    "\n",
    "cv_result_df=pd.DataFrame()\n",
    "if Path(cv_result_path).is_file():\n",
    "    cv_result_df=pd.read_csv(cv_result_path,header=0,index_col=0)\n",
    "\n",
    "cv_avg_result_df=pd.DataFrame()\n",
    "if Path(avg_result_path).is_file():\n",
    "    cv_avg_result_df=pd.read_csv(avg_result_path,header=0,index_col=0)"
   ]
  },
  {
   "cell_type": "code",
   "execution_count": 12,
   "metadata": {},
   "outputs": [],
   "source": [
    "compare_result_path=\"experiment_result/Q2_result.csv\"\n",
    "compare_avg_path=\"experiment_result/Q2_average_result.csv\"\n",
    "\n",
    "compare_result_df=pd.DataFrame()\n",
    "if Path(compare_result_path).is_file():\n",
    "    compare_result_df=pd.read_csv(compare_result_path,header=0,index_col=0)\n",
    "\n",
    "compare_avg_df=pd.DataFrame()\n",
    "if Path(compare_avg_path).is_file():\n",
    "    compare_avg_df=pd.read_csv(compare_avg_path,header=0,index_col=0)"
   ]
  },
  {
   "cell_type": "code",
   "execution_count": 9,
   "metadata": {},
   "outputs": [],
   "source": [
    "def symmetry_mean_aboslute_percentage_error(truth,pred):\n",
    "    smape = np.abs(pred - truth) / (np.abs(truth)+np.abs(pred))*2\n",
    "    output_errors = np.average(smape, axis=0)\n",
    "    return output_errors"
   ]
  },
  {
   "cell_type": "code",
   "execution_count": 10,
   "metadata": {},
   "outputs": [],
   "source": [
    "def cross_validatae(model, name, target,fold_settings={}):\n",
    "    cv_result=[]\n",
    "    #fold_settings are parameters to specified the KFold used to create training testing split in all folds\n",
    "    k_fold=KFold(**fold_settings)\n",
    "    for index,(train_index,test_index) in enumerate(tqdm(k_fold.split(X,Y), total=k_fold.get_n_splits(), desc=target)):\n",
    "\n",
    "        #Train models and produce predictions based on training and testing split\n",
    "        model.fit(X.loc[train_index],Y.loc[train_index][target])\n",
    "        pred=model.predict(X.loc[test_index])\n",
    "        truth=Y.loc[test_index][target]\n",
    "\n",
    "        #Calculate the metrics\n",
    "        mae=mean_absolute_error(truth,pred)\n",
    "        mse=mean_squared_error(truth,pred)\n",
    "        rmse=root_mean_squared_error(truth,pred)\n",
    "        mape=mean_absolute_percentage_error(truth,pred)\n",
    "        smape=symmetry_mean_aboslute_percentage_error(truth,pred)\n",
    "        msle=mean_squared_log_error(np.abs(truth),np.abs(pred))\n",
    "        cv_result.append({\n",
    "            \"Model\":name,\n",
    "            \"Fold\":index,\n",
    "            \"label\": target,\n",
    "            \"MAE\":mae,\n",
    "            \"MSE\":mse,\n",
    "            \"RMSE\":rmse,\n",
    "            \"MAPE\":mape,\n",
    "            \"SMAPE\":smape,\n",
    "            \"MSLE\":msle\n",
    "        })\n",
    "    \n",
    "    #Output results as Dataframe\n",
    "    result_df=pd.DataFrame(cv_result)\n",
    "    average_row={\"Model\":name,\"label\":target}\n",
    "    average_row.update(result_df.drop(columns=[\"Model\",\"Fold\",\"label\"]).agg(np.average).to_dict())\n",
    "    average_df=pd.DataFrame([average_row],index=[name])\n",
    "    return result_df,average_df"
   ]
  },
  {
   "cell_type": "code",
   "execution_count": 11,
   "metadata": {},
   "outputs": [],
   "source": [
    "# Perform Cross Validation for each model settings \n",
    "def evaluate_model(model,name,fold_settings={}):\n",
    "    global cv_result_df\n",
    "    global cv_avg_result_df\n",
    "    for bs in bias_score_key:\n",
    "        if bs in cv_result_df[cv_result_df[\"Model\"]==name][\"label\"].unique():\n",
    "            print(f\"{name} for {bs} has already been tested\")\n",
    "            continue\n",
    "        cv_df,avg_df=cross_validatae(model,name,bs,fold_settings)\n",
    "        cv_result_df=pd.concat([cv_result_df,cv_df],axis=0).reset_index(drop=True)\n",
    "        cv_result_df.to_csv(cv_result_path)\n",
    "        cv_avg_result_df=pd.concat([cv_avg_result_df,avg_df],axis=0).reset_index(drop=True)\n",
    "        cv_avg_result_df.to_csv(avg_result_path)\n",
    "        print(f\"CV on model trained to predict {bs} has finished\")"
   ]
  },
  {
   "cell_type": "code",
   "execution_count": 12,
   "metadata": {},
   "outputs": [],
   "source": [
    "#Universal KFold training and setting split settings\n",
    "fold_settings={\n",
    "    \"n_splits\":10, \n",
    "    \"shuffle\":True,\n",
    "    \"random_state\":420\n",
    "}"
   ]
  },
  {
   "cell_type": "code",
   "execution_count": 58,
   "metadata": {},
   "outputs": [
    {
     "name": "stdout",
     "output_type": "stream",
     "text": [
      "NaiveMean for individual_fairness has already been tested\n",
      "NaiveMean for group_fairness has already been tested\n"
     ]
    }
   ],
   "source": [
    "evaluate_model(DummyRegressor(strategy=\"mean\"),\"NaiveMean\",fold_settings)"
   ]
  },
  {
   "cell_type": "code",
   "execution_count": 59,
   "metadata": {},
   "outputs": [
    {
     "name": "stdout",
     "output_type": "stream",
     "text": [
      "LinearRegression for individual_fairness has already been tested\n",
      "LinearRegression for group_fairness has already been tested\n"
     ]
    }
   ],
   "source": [
    "evaluate_model(LinearRegression(),\"LinearRegression\",fold_settings)"
   ]
  },
  {
   "cell_type": "code",
   "execution_count": 60,
   "metadata": {},
   "outputs": [
    {
     "name": "stdout",
     "output_type": "stream",
     "text": [
      "Lasso for individual_fairness has already been tested\n",
      "Lasso for group_fairness has already been tested\n"
     ]
    }
   ],
   "source": [
    "evaluate_model(LassoCV(cv=KFold(n_splits=5,shuffle=True,random_state=500)),\"Lasso\",fold_settings)"
   ]
  },
  {
   "cell_type": "code",
   "execution_count": 14,
   "metadata": {},
   "outputs": [
    {
     "name": "stderr",
     "output_type": "stream",
     "text": [
      "individual_fairness: 100%|██████████| 10/10 [4:53:24<00:00, 1760.47s/it] \n"
     ]
    },
    {
     "name": "stdout",
     "output_type": "stream",
     "text": [
      "CV on model trained to predict individual_fairness has finished\n"
     ]
    },
    {
     "name": "stderr",
     "output_type": "stream",
     "text": [
      "group_fairness: 100%|██████████| 10/10 [5:26:23<00:00, 1958.40s/it] "
     ]
    },
    {
     "name": "stdout",
     "output_type": "stream",
     "text": [
      "CV on model trained to predict group_fairness has finished\n"
     ]
    },
    {
     "name": "stderr",
     "output_type": "stream",
     "text": [
      "\n"
     ]
    }
   ],
   "source": [
    "#XGBoost, LightGBM, RandomForest and MLP requires hyperparameters tuning, We use GridSearchCV to tune.\n",
    "#Based on our understanding of the method, there are not risk of leakage of testing data during model training.\n",
    "xgboost_parameters={\n",
    "    \"n_estimators\":range(50,300,50),\n",
    "    \"max_depth\":[2,5,10,15,20],\n",
    "    \"learning_rate\":[0.01,0.3, 0.5]\n",
    "}\n",
    "evaluate_model(GridSearchCV(XGBRegressor(objective=\"reg:squarederror\", n_jobs=8, seed=600, device=\"gpu\")\n",
    "            ,xgboost_parameters,cv=KFold(n_splits=5,shuffle=True,random_state=600),scoring=\"neg_mean_squared_error\", n_jobs=5)\n",
    "               ,\"XGBoost\",fold_settings)"
   ]
  },
  {
   "cell_type": "code",
   "execution_count": 64,
   "metadata": {},
   "outputs": [
    {
     "name": "stderr",
     "output_type": "stream",
     "text": [
      "individual_fairness: 100%|██████████| 10/10 [1:03:24<00:00, 380.48s/it]\n"
     ]
    },
    {
     "name": "stdout",
     "output_type": "stream",
     "text": [
      "CV on model trained to predict individual_fairness has finished\n"
     ]
    },
    {
     "name": "stderr",
     "output_type": "stream",
     "text": [
      "group_fairness: 100%|██████████| 10/10 [1:03:26<00:00, 380.64s/it]"
     ]
    },
    {
     "name": "stdout",
     "output_type": "stream",
     "text": [
      "CV on model trained to predict group_fairness has finished\n"
     ]
    },
    {
     "name": "stderr",
     "output_type": "stream",
     "text": [
      "\n"
     ]
    }
   ],
   "source": [
    "lightgbm_parameters={\n",
    "    \"n_estimators\":range(50,300,50),\n",
    "    \"max_depth\":[5,10,20,30,40],\n",
    "    \"learning_rate\":[0.01,0.1, 0.5],\n",
    "}\n",
    "evaluate_model(GridSearchCV(LGBMRegressor(objective=\"regression\", n_jobs=8, random_state =700, device_type =\"gpu\",verbosity=-1)\n",
    "            ,lightgbm_parameters,cv=KFold(n_splits=5,shuffle=True,random_state=700),scoring=\"neg_mean_squared_error\", n_jobs=5)\n",
    "               ,\"LightGBM\",fold_settings)"
   ]
  },
  {
   "cell_type": "code",
   "execution_count": 65,
   "metadata": {},
   "outputs": [
    {
     "name": "stderr",
     "output_type": "stream",
     "text": [
      "individual_fairness: 100%|██████████| 10/10 [52:17<00:00, 313.80s/it]\n"
     ]
    },
    {
     "name": "stdout",
     "output_type": "stream",
     "text": [
      "CV on model trained to predict individual_fairness has finished\n"
     ]
    },
    {
     "name": "stderr",
     "output_type": "stream",
     "text": [
      "group_fairness: 100%|██████████| 10/10 [54:48<00:00, 328.86s/it]"
     ]
    },
    {
     "name": "stdout",
     "output_type": "stream",
     "text": [
      "CV on model trained to predict group_fairness has finished\n"
     ]
    },
    {
     "name": "stderr",
     "output_type": "stream",
     "text": [
      "\n"
     ]
    }
   ],
   "source": [
    "randomforest_parameters={\n",
    "    \"n_estimators\":range(25,150,25),\n",
    "    \"max_depth\":[5,10,20,30,40],\n",
    "    \"max_features\":[1,0.5, \"sqrt\"],\n",
    "}\n",
    "evaluate_model(GridSearchCV(RandomForestRegressor( n_jobs=8, random_state =800)\n",
    "            ,randomforest_parameters,cv=KFold(n_splits=5,shuffle=True,random_state=800),scoring=\"neg_mean_squared_error\", n_jobs=5)\n",
    "               ,\"RandomForest\",fold_settings)"
   ]
  },
  {
   "cell_type": "code",
   "execution_count": 66,
   "metadata": {},
   "outputs": [
    {
     "name": "stderr",
     "output_type": "stream",
     "text": [
      "individual_fairness: 100%|██████████| 10/10 [2:05:22<00:00, 752.25s/it] \n"
     ]
    },
    {
     "name": "stdout",
     "output_type": "stream",
     "text": [
      "CV on model trained to predict individual_fairness has finished\n"
     ]
    },
    {
     "name": "stderr",
     "output_type": "stream",
     "text": [
      "group_fairness: 100%|██████████| 10/10 [2:05:31<00:00, 753.17s/it] "
     ]
    },
    {
     "name": "stdout",
     "output_type": "stream",
     "text": [
      "CV on model trained to predict group_fairness has finished\n"
     ]
    },
    {
     "name": "stderr",
     "output_type": "stream",
     "text": [
      "\n"
     ]
    }
   ],
   "source": [
    "MLP_parameters={\n",
    "    \"hidden_layer_sizes\":[(50,),(100,),(25,25),(75,25),(25,50,25),(10,30,10)],\n",
    "    \"solver\":['sgd', 'adam'],\n",
    "    \"activation\":['relu','logistic'],\n",
    "    \"learning_rate_init\": [0.001,0.01,0.1]\n",
    "}\n",
    "\n",
    "evaluate_model(GridSearchCV(MLPRegressor(random_state =900,batch_size=20)\n",
    "            ,MLP_parameters,cv=KFold(n_splits=5,shuffle=True,random_state=900),scoring=\"neg_mean_squared_error\", n_jobs=5)\n",
    "               ,\"MLP\",fold_settings)"
   ]
  },
  {
   "cell_type": "code",
   "execution_count": 36,
   "metadata": {},
   "outputs": [],
   "source": [
    "cv_fairness_result_df=cv_result_df[cv_result_df[\"label\"].isin(bias_score_key)]\n",
    "compare_fairness_result_df=compare_result_df[compare_result_df[\"label\"].isin(bias_score_key)][compare_result_df[\"Model\"]!=\"NaiveNormal\"]"
   ]
  },
  {
   "cell_type": "code",
   "execution_count": 18,
   "metadata": {},
   "outputs": [],
   "source": [
    "sns.set_style(\"ticks\")\n",
    "plt.rcParams.update({\"text.usetex\": True, \"font.family\": \"serif\", \"font.size\": 9})\n",
    "sns.set_style(rc={\"font.size\": 8})\n",
    "COLORS = ['#cdcdcd', '#00678a', '#984464', '#5eccab', '#56641a', '#e6a176', '#c0affb']\n",
    "model_colors = dict(zip(cv_fairness_result_df['Model'].unique(), COLORS))"
   ]
  },
  {
   "cell_type": "code",
   "execution_count": 50,
   "metadata": {},
   "outputs": [],
   "source": [
    "def display_full_result(df,metrics,save_path=\"\", figwidth=8, trim_y=True):\n",
    "    fig, axes = plt.subplots(1, len(df['label'].unique()), figsize=(figwidth,0.8), sharey=False)\n",
    "    for idx, target in enumerate(df['label'].unique()):\n",
    "        sns.barplot(data=df[df['label']==target], x='Model', y=metrics, ax=axes[idx], \n",
    "                    palette=model_colors, hue='Model', legend=False if idx!=1 else 'brief')\n",
    "        axes[idx].set_title(target_names_dict[target])\n",
    "        # axes[idx].set_xlabel(metrics)\n",
    "        axes[idx].set_xticks([], [])\n",
    "        if trim_y:\n",
    "            axes[idx].yaxis.set_major_formatter(ticker.FormatStrFormatter('%.1f'))\n",
    "        if idx>0: axes[idx].set_ylabel('')\n",
    "    # axes[2].legend(ncol=4, loc='upper center', bbox_to_anchor=(1.2, -0.4), frameon=False)\n",
    "    axes[1].legend(ncol=1, loc='upper left', bbox_to_anchor=(1.15, 1.7), frameon=False)\n",
    "    plt.subplots_adjust(wspace=0.4)\n",
    "    plt.show()"
   ]
  },
  {
   "cell_type": "code",
   "execution_count": 41,
   "metadata": {},
   "outputs": [
    {
     "data": {
      "image/png": "[encoded data removed]",
      "text/plain": [
       "<Figure size 600x80 with 2 Axes>"
      ]
     },
     "metadata": {},
     "output_type": "display_data"
    }
   ],
   "source": [
    "display_full_result(cv_fairness_result_df,\"RMSE\", figwidth=6)"
   ]
  },
  {
   "cell_type": "code",
   "execution_count": 42,
   "metadata": {},
   "outputs": [
    {
     "data": {
      "image/png": "[encoded data removed]",
      "text/plain": [
       "<Figure size 600x80 with 2 Axes>"
      ]
     },
     "metadata": {},
     "output_type": "display_data"
    }
   ],
   "source": [
    "display_full_result(compare_fairness_result_df,\"RMSE\", figwidth=6)"
   ]
  },
  {
   "cell_type": "code",
   "execution_count": 47,
   "metadata": {},
   "outputs": [],
   "source": [
    "Best_Model=[\"XGBoost\",\"LightGBM\",\"RandomForest\"]\n",
    "cv_fairness_result_df=cv_result_df[cv_result_df[\"label\"].isin(bias_score_key)][cv_result_df[\"Model\"].isin(Best_Model)]\n",
    "compare_fairness_result_df=compare_result_df[compare_result_df[\"label\"].isin(bias_score_key)][compare_result_df[\"Model\"].isin(Best_Model)]"
   ]
  },
  {
   "cell_type": "code",
   "execution_count": 48,
   "metadata": {},
   "outputs": [
    {
     "data": {
      "image/png": "[encoded data removed]",
      "text/plain": [
       "<Figure size 600x80 with 2 Axes>"
      ]
     },
     "metadata": {},
     "output_type": "display_data"
    }
   ],
   "source": [
    "display_full_result(cv_fairness_result_df,\"RMSE\", figwidth=6)"
   ]
  },
  {
   "cell_type": "code",
   "execution_count": 49,
   "metadata": {},
   "outputs": [
    {
     "data": {
      "image/png": "[encoded data removed]",
      "text/plain": [
       "<Figure size 600x80 with 2 Axes>"
      ]
     },
     "metadata": {},
     "output_type": "display_data"
    }
   ],
   "source": [
    "display_full_result(compare_fairness_result_df,\"RMSE\", figwidth=6)"
   ]
  },
  {
   "cell_type": "markdown",
   "metadata": {},
   "source": [
    "### Which features are important if we remove classes_per_leaf for Group Fairness?"
   ]
  },
  {
   "cell_type": "code",
   "execution_count": 11,
   "metadata": {},
   "outputs": [],
   "source": [
    "lightGBM_params={\n",
    "    \"objective\":\"regression\", \n",
    "    \"n_jobs\":8, \n",
    "    \"random_state\":700, \n",
    "    \"device_type\":\"gpu\",\n",
    "    \"verbosity\":-1,\n",
    "    \"n_estimators\":50,\n",
    "    \"max_depth\":5,\n",
    "    \"learning_rate\":0.01,\n",
    "    \"importance_type\":\"split\"\n",
    "}"
   ]
  },
  {
   "cell_type": "code",
   "execution_count": 18,
   "metadata": {},
   "outputs": [],
   "source": [
    "df=pd.read_csv(\"artifact/metadataset.csv\")\n",
    "df=df.drop(config_key,axis=1)\n",
    "X=df.drop(bias_score_key,axis=1)\n",
    "X=X.drop(['Group Size Disparity', 'Prevalence Disparity','disparate_parity', 'equal_opportunity'],axis=1)\n",
    "Y=df[bias_score_key]"
   ]
  },
  {
   "cell_type": "code",
   "execution_count": 26,
   "metadata": {
    "scrolled": true
   },
   "outputs": [
    {
     "name": "stdout",
     "output_type": "stream",
     "text": [
      "Seed: 0  | RMSE all:  0.27014318870394327  | RMSE without:  0.27357207930572647  | Increase (in %):  1.269286343377328\n",
      "Seed: 1  | RMSE all:  0.27382259502326434  | RMSE without:  0.2775901565539834  | Increase (in %):  1.3759133100023968\n",
      "Seed: 2  | RMSE all:  0.2767348717857629  | RMSE without:  0.28068686415263416  | Increase (in %):  1.4280789194976287\n",
      "Seed: 3  | RMSE all:  0.2745008305275868  | RMSE without:  0.2791709252397992  | Increase (in %):  1.7013044016065657\n",
      "Seed: 4  | RMSE all:  0.27877740098831394  | RMSE without:  0.28084606500759246  | Increase (in %):  0.7420486782446319\n",
      "Seed: 5  | RMSE all:  0.27159158665815913  | RMSE without:  0.2753753444598867  | Increase (in %):  1.3931793132053196\n",
      "Seed: 6  | RMSE all:  0.2799245717814347  | RMSE without:  0.2817536237861494  | Increase (in %):  0.6534088783541289\n",
      "Seed: 7  | RMSE all:  0.27480506142009953  | RMSE without:  0.27751512258922256  | Increase (in %):  0.986175856848617\n",
      "Seed: 8  | RMSE all:  0.27577092165191464  | RMSE without:  0.2807257978757488  | Increase (in %):  1.7967362890016179\n",
      "Seed: 9  | RMSE all:  0.28029671257705263  | RMSE without:  0.2815833953352005  | Increase (in %):  0.4590431141050777\n",
      "Average increase (in %):  1.1805175104243315\n"
     ]
    }
   ],
   "source": [
    "# Train a single LightGBM on all data points to extract feature importance\n",
    "models = {}\n",
    "incs = []\n",
    "for seed in list(range(10)):\n",
    "    np.random.seed(seed)\n",
    "    sample = np.random.choice(list(range(len(X))), 1000)\n",
    "    X_sam, Y_sam = X.loc[sample], Y['group_fairness'].loc[sample]\n",
    "    mask = np.full(len(Y),True,dtype=bool)\n",
    "    mask[sample] = False\n",
    "    \n",
    "    best_model=LGBMRegressor(**lightGBM_params)\n",
    "    best_model.fit(X_sam,Y_sam)\n",
    "    rmse_all = root_mean_squared_error(Y['group_fairness'].loc[mask], best_model.predict(X.loc[mask]))\n",
    "\n",
    "    # drop overused feature\n",
    "    X_sam = X_sam.drop([\"leaves_per_class.mean\"], axis=1)\n",
    "    best_model=LGBMRegressor(**lightGBM_params)\n",
    "    best_model.fit(X_sam,Y_sam)\n",
    "    models[('group_fairness', seed)] = best_model\n",
    "    rmse_without = root_mean_squared_error(Y['group_fairness'].loc[mask], best_model.predict(X.drop([\"leaves_per_class.mean\"], axis=1).loc[mask]))\n",
    "    inc = (rmse_without-rmse_all)/rmse_all*100\n",
    "    incs.append(inc)\n",
    "    print('Seed:', seed, ' | RMSE all: ', rmse_all, ' | RMSE without: ', rmse_without, ' | Increase (in %): ', inc)\n",
    "print('Average increase (in %): ', np.average(incs))"
   ]
  },
  {
   "cell_type": "code",
   "execution_count": 30,
   "metadata": {},
   "outputs": [],
   "source": [
    "# average feature importance over all seeds\n",
    "avg_fi = np.array([models[('group_fairness', seed)].feature_importances_ for seed in range(10)])\n",
    "avg_fi = np.mean(avg_fi, axis=0)\n",
    "\n",
    "sorted_indices = np.argsort(avg_fi)[::-1]  \n",
    "sorted_features = X.drop([\"leaves_per_class.mean\"], axis=1).columns[sorted_indices]"
   ]
  },
  {
   "cell_type": "code",
   "execution_count": 45,
   "metadata": {},
   "outputs": [
    {
     "data": {
      "image/png": "[encoded data removed]",
      "text/plain": [
       "<Figure size 800x250 with 1 Axes>"
      ]
     },
     "metadata": {},
     "output_type": "display_data"
    }
   ],
   "source": [
    "sns.set_style(\"ticks\")\n",
    "plt.rcParams.update({\"text.usetex\": True, \"font.family\": \"serif\", \"font.size\": 9})\n",
    "sns.set_style(rc={\"font.size\": 8})\n",
    "\n",
    "fig, ax = plt.subplots(1, 1, figsize=(8,2.5))\n",
    "sns.barplot(y=avg_fi[sorted_indices], x=sorted_features, palette=\"Grays\", \n",
    "            hue=avg_fi[sorted_indices], legend=False, edgecolor='black')\n",
    "ax.set_ylabel(\"Importance\")\n",
    "ax.set_xlabel(\"\")\n",
    "ax.set_title('Group Fairness (without leaves\\_per\\_class)')\n",
    "plt.xticks(rotation=305, ha='left');\n",
    "plt.gca().tick_params(axis='x', pad=2)\n",
    "plt.tight_layout()\n",
    "plt.savefig('Plots/Q4/feature_importance_group_fitness_without_leaves_per_class.pdf', bbox_inches='tight')\n",
    "plt.show()"
   ]
  },
  {
   "cell_type": "markdown",
   "metadata": {},
   "source": [
    "### What if we remove eq_num_attr for Disparate Parity?"
   ]
  },
  {
   "cell_type": "code",
   "execution_count": 53,
   "metadata": {},
   "outputs": [],
   "source": [
    "df=pd.read_csv(\"artifact/metadataset.csv\")\n",
    "df=df.drop(config_key,axis=1)\n",
    "X=df.drop(['Group Size Disparity', 'Prevalence Disparity','group_fairness', 'equal_opportunity', 'individual_fairness', 'disparate_parity'],axis=1)\n",
    "Y=df['disparate_parity']"
   ]
  },
  {
   "cell_type": "code",
   "execution_count": 54,
   "metadata": {},
   "outputs": [
    {
     "name": "stdout",
     "output_type": "stream",
     "text": [
      "Seed: 0  | RMSE all:  0.1444496534970936  | RMSE without:  0.14514604366740083  | Increase (in %):  0.482098885977074\n",
      "Seed: 1  | RMSE all:  0.1453918390021011  | RMSE without:  0.14606288557367283  | Increase (in %):  0.4615434925216438\n",
      "Seed: 2  | RMSE all:  0.14499200413478133  | RMSE without:  0.14493430115519343  | Increase (in %):  -0.03979735291765758\n",
      "Seed: 3  | RMSE all:  0.1446894908329298  | RMSE without:  0.14568785252402316  | Increase (in %):  0.6900029057716026\n",
      "Seed: 4  | RMSE all:  0.1431292504479877  | RMSE without:  0.14397457504928973  | Increase (in %):  0.5906022693867389\n",
      "Seed: 5  | RMSE all:  0.1432377066954151  | RMSE without:  0.14342100668018012  | Increase (in %):  0.12796908648837274\n",
      "Seed: 6  | RMSE all:  0.145773748017714  | RMSE without:  0.14611798649909627  | Increase (in %):  0.23614572998454647\n",
      "Seed: 7  | RMSE all:  0.14456755091843848  | RMSE without:  0.14466786520184766  | Increase (in %):  0.06938921132154348\n",
      "Seed: 8  | RMSE all:  0.1475216970174783  | RMSE without:  0.1475141461356978  | Increase (in %):  -0.005118488963430346\n",
      "Seed: 9  | RMSE all:  0.14574887842462397  | RMSE without:  0.146486974429053  | Increase (in %):  0.5064162499272683\n",
      "Average increase (in %):  0.3119251989497703\n"
     ]
    }
   ],
   "source": [
    "# Train a single LightGBM on all data points to extract feature importance\n",
    "models = {}\n",
    "incs = []\n",
    "for seed in list(range(10)):\n",
    "    np.random.seed(seed)\n",
    "    sample = np.random.choice(list(range(len(X))), 1000)\n",
    "    X_sam, Y_sam = X.loc[sample], Y.loc[sample]\n",
    "    mask = np.full(len(Y),True,dtype=bool)\n",
    "    mask[sample] = False\n",
    "    \n",
    "    best_model=LGBMRegressor(**lightGBM_params)\n",
    "    best_model.fit(X_sam,Y_sam)\n",
    "    rmse_all = root_mean_squared_error(Y.loc[mask], best_model.predict(X.loc[mask]))\n",
    "\n",
    "    # drop overused feature\n",
    "    X_sam = X_sam.drop([\"eq_num_attr\"], axis=1)\n",
    "    best_model=LGBMRegressor(**lightGBM_params)\n",
    "    best_model.fit(X_sam,Y_sam)\n",
    "    models[('disparate_parity', seed)] = best_model\n",
    "    rmse_without = root_mean_squared_error(Y.loc[mask], best_model.predict(X.drop([\"eq_num_attr\"], axis=1).loc[mask]))\n",
    "    inc = (rmse_without-rmse_all)/rmse_all*100\n",
    "    incs.append(inc)\n",
    "    print('Seed:', seed, ' | RMSE all: ', rmse_all, ' | RMSE without: ', rmse_without, ' | Increase (in %): ', inc)\n",
    "print('Average increase (in %): ', np.average(incs))"
   ]
  },
  {
   "cell_type": "code",
   "execution_count": 55,
   "metadata": {},
   "outputs": [],
   "source": [
    "# average feature importance over all seeds\n",
    "avg_fi = np.array([models[('disparate_parity', seed)].feature_importances_ for seed in range(10)])\n",
    "avg_fi = np.mean(avg_fi, axis=0)\n",
    "\n",
    "sorted_indices = np.argsort(avg_fi)[::-1]  \n",
    "sorted_features = X.drop([\"eq_num_attr\"], axis=1).columns[sorted_indices]"
   ]
  },
  {
   "cell_type": "code",
   "execution_count": 56,
   "metadata": {},
   "outputs": [
    {
     "data": {
      "image/png": "[encoded data removed]",
      "text/plain": [
       "<Figure size 800x250 with 1 Axes>"
      ]
     },
     "metadata": {},
     "output_type": "display_data"
    }
   ],
   "source": [
    "sns.set_style(\"ticks\")\n",
    "plt.rcParams.update({\"text.usetex\": True, \"font.family\": \"serif\", \"font.size\": 9})\n",
    "sns.set_style(rc={\"font.size\": 8})\n",
    "\n",
    "fig, ax = plt.subplots(1, 1, figsize=(8,2.5))\n",
    "sns.barplot(y=avg_fi[sorted_indices], x=sorted_features, palette=\"Grays\", \n",
    "            hue=avg_fi[sorted_indices], legend=False, edgecolor='black')\n",
    "ax.set_ylabel(\"Importance\")\n",
    "ax.set_xlabel(\"\")\n",
    "ax.set_title('Disparate Parity (without eq\\_num\\_attr)')\n",
    "plt.xticks(rotation=305, ha='left');\n",
    "plt.gca().tick_params(axis='x', pad=2)\n",
    "plt.tight_layout()\n",
    "plt.savefig('Plots/Q4/feature_importance_disparate_parity_without_eq_num_attr.pdf', bbox_inches='tight')\n",
    "plt.show()"
   ]
  },
  {
   "cell_type": "code",
   "execution_count": null,
   "metadata": {},
   "outputs": [],
   "source": []
  }
 ],
 "metadata": {
  "kernelspec": {
   "display_name": "honor",
   "language": "python",
   "name": "python3"
  },
  "language_info": {
   "codemirror_mode": {
    "name": "ipython",
    "version": 3
   },
   "file_extension": ".py",
   "mimetype": "text/x-python",
   "name": "python",
   "nbconvert_exporter": "python",
   "pygments_lexer": "ipython3",
   "version": "3.11.8"
  }
 },
 "nbformat": 4,
 "nbformat_minor": 4
}
